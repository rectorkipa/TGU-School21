{
 "cells": [
  {
   "cell_type": "markdown",
   "metadata": {},
   "source": [
    "# Задание № 2, Кривоногов Н.В."
   ]
  },
  {
   "cell_type": "code",
   "execution_count": 1,
   "metadata": {},
   "outputs": [],
   "source": [
    "import pandas as pd"
   ]
  },
  {
   "cell_type": "code",
   "execution_count": 2,
   "metadata": {},
   "outputs": [
    {
     "name": "stderr",
     "output_type": "stream",
     "text": [
      "C:\\Users\\Николай\\AppData\\Local\\Temp\\ipykernel_6568\\717743107.py:1: DtypeWarning: Columns (0,208,225,255,257,260,270,271,277) have mixed types. Specify dtype option on import or set low_memory=False.\n",
      "  data = pd.read_csv('../datasets/kaggle_survey_2022_responses.csv')\n"
     ]
    }
   ],
   "source": [
    "data = pd.read_csv('../datasets/kaggle_survey_2022_responses.csv')"
   ]
  },
  {
   "cell_type": "code",
   "execution_count": 3,
   "metadata": {},
   "outputs": [
    {
     "data": {
      "text/plain": [
       "Duration (in seconds)                                Duration (in seconds)\n",
       "Q2                                             What is your age (# years)?\n",
       "Q3                                  What is your gender? - Selected Choice\n",
       "Q4                               In which country do you currently reside?\n",
       "Q5                       Are you currently a student? (high school, uni...\n",
       "                                               ...                        \n",
       "Q44_8                    Who/what are your favorite media sources that ...\n",
       "Q44_9                    Who/what are your favorite media sources that ...\n",
       "Q44_10                   Who/what are your favorite media sources that ...\n",
       "Q44_11                   Who/what are your favorite media sources that ...\n",
       "Q44_12                   Who/what are your favorite media sources that ...\n",
       "Name: 0, Length: 296, dtype: object"
      ]
     },
     "execution_count": 3,
     "metadata": {},
     "output_type": "execute_result"
    }
   ],
   "source": [
    "name2question = data.iloc[0]\n",
    "\n",
    "name2question"
   ]
  },
  {
   "cell_type": "code",
   "execution_count": 9,
   "metadata": {},
   "outputs": [
    {
     "data": {
      "text/plain": [
       "Q9       Have you ever published any academic research ...\n",
       "Q10_1    Did your research make use of machine learning...\n",
       "Q10_2    Did your research make use of machine learning...\n",
       "Q10_3    Did your research make use of machine learning...\n",
       "Q11      For how many years have you been writing code ...\n",
       "Q12_1    What programming languages do you use on a reg...\n",
       "Q12_2    What programming languages do you use on a reg...\n",
       "Q12_3    What programming languages do you use on a reg...\n",
       "Q12_4    What programming languages do you use on a reg...\n",
       "Q12_5    What programming languages do you use on a reg...\n",
       "Name: 0, dtype: object"
      ]
     },
     "execution_count": 9,
     "metadata": {},
     "output_type": "execute_result"
    }
   ],
   "source": [
    "name2question[25:35]"
   ]
  },
  {
   "cell_type": "code",
   "execution_count": 5,
   "metadata": {},
   "outputs": [],
   "source": [
    "df = data[data['Q23'] == 'Data Scientist']"
   ]
  },
  {
   "cell_type": "code",
   "execution_count": 10,
   "metadata": {},
   "outputs": [],
   "source": [
    "df = df[['Q2', 'Q11']]"
   ]
  },
  {
   "cell_type": "code",
   "execution_count": 11,
   "metadata": {},
   "outputs": [
    {
     "data": {
      "text/html": [
       "<div>\n",
       "<style scoped>\n",
       "    .dataframe tbody tr th:only-of-type {\n",
       "        vertical-align: middle;\n",
       "    }\n",
       "\n",
       "    .dataframe tbody tr th {\n",
       "        vertical-align: top;\n",
       "    }\n",
       "\n",
       "    .dataframe thead th {\n",
       "        text-align: right;\n",
       "    }\n",
       "</style>\n",
       "<table border=\"1\" class=\"dataframe\">\n",
       "  <thead>\n",
       "    <tr style=\"text-align: right;\">\n",
       "      <th></th>\n",
       "      <th>Q2</th>\n",
       "      <th>Q11</th>\n",
       "    </tr>\n",
       "  </thead>\n",
       "  <tbody>\n",
       "    <tr>\n",
       "      <th>4</th>\n",
       "      <td>55-59</td>\n",
       "      <td>10-20 years</td>\n",
       "    </tr>\n",
       "    <tr>\n",
       "      <th>17</th>\n",
       "      <td>40-44</td>\n",
       "      <td>10-20 years</td>\n",
       "    </tr>\n",
       "    <tr>\n",
       "      <th>18</th>\n",
       "      <td>30-34</td>\n",
       "      <td>5-10 years</td>\n",
       "    </tr>\n",
       "    <tr>\n",
       "      <th>30</th>\n",
       "      <td>35-39</td>\n",
       "      <td>5-10 years</td>\n",
       "    </tr>\n",
       "    <tr>\n",
       "      <th>36</th>\n",
       "      <td>25-29</td>\n",
       "      <td>3-5 years</td>\n",
       "    </tr>\n",
       "    <tr>\n",
       "      <th>...</th>\n",
       "      <td>...</td>\n",
       "      <td>...</td>\n",
       "    </tr>\n",
       "    <tr>\n",
       "      <th>23930</th>\n",
       "      <td>25-29</td>\n",
       "      <td>&lt; 1 years</td>\n",
       "    </tr>\n",
       "    <tr>\n",
       "      <th>23932</th>\n",
       "      <td>25-29</td>\n",
       "      <td>10-20 years</td>\n",
       "    </tr>\n",
       "    <tr>\n",
       "      <th>23935</th>\n",
       "      <td>25-29</td>\n",
       "      <td>5-10 years</td>\n",
       "    </tr>\n",
       "    <tr>\n",
       "      <th>23964</th>\n",
       "      <td>30-34</td>\n",
       "      <td>3-5 years</td>\n",
       "    </tr>\n",
       "    <tr>\n",
       "      <th>23990</th>\n",
       "      <td>35-39</td>\n",
       "      <td>1-3 years</td>\n",
       "    </tr>\n",
       "  </tbody>\n",
       "</table>\n",
       "<p>1929 rows × 2 columns</p>\n",
       "</div>"
      ],
      "text/plain": [
       "          Q2          Q11\n",
       "4      55-59  10-20 years\n",
       "17     40-44  10-20 years\n",
       "18     30-34   5-10 years\n",
       "30     35-39   5-10 years\n",
       "36     25-29    3-5 years\n",
       "...      ...          ...\n",
       "23930  25-29    < 1 years\n",
       "23932  25-29  10-20 years\n",
       "23935  25-29   5-10 years\n",
       "23964  30-34    3-5 years\n",
       "23990  35-39    1-3 years\n",
       "\n",
       "[1929 rows x 2 columns]"
      ]
     },
     "execution_count": 11,
     "metadata": {},
     "output_type": "execute_result"
    }
   ],
   "source": [
    "df"
   ]
  },
  {
   "cell_type": "code",
   "execution_count": 4,
   "metadata": {},
   "outputs": [
    {
     "data": {
      "text/html": [
       "<div>\n",
       "<style scoped>\n",
       "    .dataframe tbody tr th:only-of-type {\n",
       "        vertical-align: middle;\n",
       "    }\n",
       "\n",
       "    .dataframe tbody tr th {\n",
       "        vertical-align: top;\n",
       "    }\n",
       "\n",
       "    .dataframe thead th {\n",
       "        text-align: right;\n",
       "    }\n",
       "</style>\n",
       "<table border=\"1\" class=\"dataframe\">\n",
       "  <thead>\n",
       "    <tr style=\"text-align: right;\">\n",
       "      <th></th>\n",
       "      <th>Duration (in seconds)</th>\n",
       "      <th>Q2</th>\n",
       "      <th>Q3</th>\n",
       "      <th>Q4</th>\n",
       "      <th>Q5</th>\n",
       "      <th>Q6_1</th>\n",
       "      <th>Q6_2</th>\n",
       "      <th>Q6_3</th>\n",
       "      <th>Q6_4</th>\n",
       "      <th>Q6_5</th>\n",
       "      <th>...</th>\n",
       "      <th>Q44_3</th>\n",
       "      <th>Q44_4</th>\n",
       "      <th>Q44_5</th>\n",
       "      <th>Q44_6</th>\n",
       "      <th>Q44_7</th>\n",
       "      <th>Q44_8</th>\n",
       "      <th>Q44_9</th>\n",
       "      <th>Q44_10</th>\n",
       "      <th>Q44_11</th>\n",
       "      <th>Q44_12</th>\n",
       "    </tr>\n",
       "  </thead>\n",
       "  <tbody>\n",
       "    <tr>\n",
       "      <th>1</th>\n",
       "      <td>121</td>\n",
       "      <td>30-34</td>\n",
       "      <td>Man</td>\n",
       "      <td>India</td>\n",
       "      <td>No</td>\n",
       "      <td>NaN</td>\n",
       "      <td>NaN</td>\n",
       "      <td>NaN</td>\n",
       "      <td>NaN</td>\n",
       "      <td>NaN</td>\n",
       "      <td>...</td>\n",
       "      <td>NaN</td>\n",
       "      <td>NaN</td>\n",
       "      <td>NaN</td>\n",
       "      <td>NaN</td>\n",
       "      <td>NaN</td>\n",
       "      <td>NaN</td>\n",
       "      <td>NaN</td>\n",
       "      <td>NaN</td>\n",
       "      <td>NaN</td>\n",
       "      <td>NaN</td>\n",
       "    </tr>\n",
       "    <tr>\n",
       "      <th>2</th>\n",
       "      <td>462</td>\n",
       "      <td>30-34</td>\n",
       "      <td>Man</td>\n",
       "      <td>Algeria</td>\n",
       "      <td>No</td>\n",
       "      <td>NaN</td>\n",
       "      <td>NaN</td>\n",
       "      <td>NaN</td>\n",
       "      <td>NaN</td>\n",
       "      <td>NaN</td>\n",
       "      <td>...</td>\n",
       "      <td>NaN</td>\n",
       "      <td>NaN</td>\n",
       "      <td>NaN</td>\n",
       "      <td>NaN</td>\n",
       "      <td>NaN</td>\n",
       "      <td>NaN</td>\n",
       "      <td>NaN</td>\n",
       "      <td>NaN</td>\n",
       "      <td>NaN</td>\n",
       "      <td>NaN</td>\n",
       "    </tr>\n",
       "    <tr>\n",
       "      <th>3</th>\n",
       "      <td>293</td>\n",
       "      <td>18-21</td>\n",
       "      <td>Man</td>\n",
       "      <td>Egypt</td>\n",
       "      <td>Yes</td>\n",
       "      <td>Coursera</td>\n",
       "      <td>edX</td>\n",
       "      <td>NaN</td>\n",
       "      <td>DataCamp</td>\n",
       "      <td>NaN</td>\n",
       "      <td>...</td>\n",
       "      <td>NaN</td>\n",
       "      <td>Kaggle (notebooks, forums, etc)</td>\n",
       "      <td>NaN</td>\n",
       "      <td>YouTube (Kaggle YouTube, Cloud AI Adventures, ...</td>\n",
       "      <td>Podcasts (Chai Time Data Science, O’Reilly Dat...</td>\n",
       "      <td>NaN</td>\n",
       "      <td>NaN</td>\n",
       "      <td>NaN</td>\n",
       "      <td>NaN</td>\n",
       "      <td>NaN</td>\n",
       "    </tr>\n",
       "    <tr>\n",
       "      <th>4</th>\n",
       "      <td>851</td>\n",
       "      <td>55-59</td>\n",
       "      <td>Man</td>\n",
       "      <td>France</td>\n",
       "      <td>No</td>\n",
       "      <td>Coursera</td>\n",
       "      <td>NaN</td>\n",
       "      <td>Kaggle Learn Courses</td>\n",
       "      <td>NaN</td>\n",
       "      <td>NaN</td>\n",
       "      <td>...</td>\n",
       "      <td>NaN</td>\n",
       "      <td>Kaggle (notebooks, forums, etc)</td>\n",
       "      <td>Course Forums (forums.fast.ai, Coursera forums...</td>\n",
       "      <td>NaN</td>\n",
       "      <td>NaN</td>\n",
       "      <td>Blogs (Towards Data Science, Analytics Vidhya,...</td>\n",
       "      <td>NaN</td>\n",
       "      <td>NaN</td>\n",
       "      <td>NaN</td>\n",
       "      <td>NaN</td>\n",
       "    </tr>\n",
       "    <tr>\n",
       "      <th>5</th>\n",
       "      <td>232</td>\n",
       "      <td>45-49</td>\n",
       "      <td>Man</td>\n",
       "      <td>India</td>\n",
       "      <td>Yes</td>\n",
       "      <td>NaN</td>\n",
       "      <td>NaN</td>\n",
       "      <td>NaN</td>\n",
       "      <td>NaN</td>\n",
       "      <td>NaN</td>\n",
       "      <td>...</td>\n",
       "      <td>NaN</td>\n",
       "      <td>NaN</td>\n",
       "      <td>NaN</td>\n",
       "      <td>NaN</td>\n",
       "      <td>NaN</td>\n",
       "      <td>Blogs (Towards Data Science, Analytics Vidhya,...</td>\n",
       "      <td>NaN</td>\n",
       "      <td>NaN</td>\n",
       "      <td>NaN</td>\n",
       "      <td>NaN</td>\n",
       "    </tr>\n",
       "  </tbody>\n",
       "</table>\n",
       "<p>5 rows × 296 columns</p>\n",
       "</div>"
      ],
      "text/plain": [
       "  Duration (in seconds)     Q2   Q3       Q4   Q5      Q6_1 Q6_2  \\\n",
       "1                   121  30-34  Man    India   No       NaN  NaN   \n",
       "2                   462  30-34  Man  Algeria   No       NaN  NaN   \n",
       "3                   293  18-21  Man    Egypt  Yes  Coursera  edX   \n",
       "4                   851  55-59  Man   France   No  Coursera  NaN   \n",
       "5                   232  45-49  Man    India  Yes       NaN  NaN   \n",
       "\n",
       "                   Q6_3      Q6_4 Q6_5  ... Q44_3  \\\n",
       "1                   NaN       NaN  NaN  ...   NaN   \n",
       "2                   NaN       NaN  NaN  ...   NaN   \n",
       "3                   NaN  DataCamp  NaN  ...   NaN   \n",
       "4  Kaggle Learn Courses       NaN  NaN  ...   NaN   \n",
       "5                   NaN       NaN  NaN  ...   NaN   \n",
       "\n",
       "                             Q44_4  \\\n",
       "1                              NaN   \n",
       "2                              NaN   \n",
       "3  Kaggle (notebooks, forums, etc)   \n",
       "4  Kaggle (notebooks, forums, etc)   \n",
       "5                              NaN   \n",
       "\n",
       "                                               Q44_5  \\\n",
       "1                                                NaN   \n",
       "2                                                NaN   \n",
       "3                                                NaN   \n",
       "4  Course Forums (forums.fast.ai, Coursera forums...   \n",
       "5                                                NaN   \n",
       "\n",
       "                                               Q44_6  \\\n",
       "1                                                NaN   \n",
       "2                                                NaN   \n",
       "3  YouTube (Kaggle YouTube, Cloud AI Adventures, ...   \n",
       "4                                                NaN   \n",
       "5                                                NaN   \n",
       "\n",
       "                                               Q44_7  \\\n",
       "1                                                NaN   \n",
       "2                                                NaN   \n",
       "3  Podcasts (Chai Time Data Science, O’Reilly Dat...   \n",
       "4                                                NaN   \n",
       "5                                                NaN   \n",
       "\n",
       "                                               Q44_8 Q44_9 Q44_10 Q44_11  \\\n",
       "1                                                NaN   NaN    NaN    NaN   \n",
       "2                                                NaN   NaN    NaN    NaN   \n",
       "3                                                NaN   NaN    NaN    NaN   \n",
       "4  Blogs (Towards Data Science, Analytics Vidhya,...   NaN    NaN    NaN   \n",
       "5  Blogs (Towards Data Science, Analytics Vidhya,...   NaN    NaN    NaN   \n",
       "\n",
       "  Q44_12  \n",
       "1    NaN  \n",
       "2    NaN  \n",
       "3    NaN  \n",
       "4    NaN  \n",
       "5    NaN  \n",
       "\n",
       "[5 rows x 296 columns]"
      ]
     },
     "execution_count": 4,
     "metadata": {},
     "output_type": "execute_result"
    }
   ],
   "source": [
    "data.drop(0, inplace=True)\n",
    "\n",
    "data.head()"
   ]
  },
  {
   "cell_type": "code",
   "execution_count": null,
   "metadata": {},
   "outputs": [],
   "source": []
  },
  {
   "cell_type": "code",
   "execution_count": null,
   "metadata": {},
   "outputs": [],
   "source": []
  },
  {
   "cell_type": "code",
   "execution_count": null,
   "metadata": {},
   "outputs": [],
   "source": []
  },
  {
   "cell_type": "markdown",
   "metadata": {},
   "source": [
    "## Task 1"
   ]
  },
  {
   "cell_type": "markdown",
   "metadata": {},
   "source": [
    "Узнай самый часто встречаемый возраст респондентов"
   ]
  },
  {
   "cell_type": "code",
   "execution_count": 5,
   "metadata": {},
   "outputs": [
    {
     "name": "stdout",
     "output_type": "stream",
     "text": [
      "Самый часто встречаемый возраст респондентов: 18-21 год.\n"
     ]
    }
   ],
   "source": [
    "# Код тут\n",
    "\n",
    "print(f\"Самый часто встречаемый возраст респондентов: {data['Q2'].value_counts().head(1).index[0]} год.\")"
   ]
  },
  {
   "cell_type": "markdown",
   "metadata": {},
   "source": [
    "## Task 2"
   ]
  },
  {
   "cell_type": "markdown",
   "metadata": {},
   "source": [
    "Посчитай долю женщин среди русских участников опроса, которые уже не студенты. Результат округли до двух цифр после запятой"
   ]
  },
  {
   "cell_type": "code",
   "execution_count": 6,
   "metadata": {},
   "outputs": [
    {
     "name": "stdout",
     "output_type": "stream",
     "text": [
      "Доля женщин среди русских участников опроса, которые уже не студенты: 0.24.\n"
     ]
    }
   ],
   "source": [
    "# Код тут\n",
    "\n",
    "data_task2 = data[(data['Q4'] == 'Russia') & (data['Q5'] == 'No')]\n",
    "\n",
    "print(f\"Доля женщин среди русских участников опроса, которые уже не студенты: {round(data_task2['Q3'].value_counts(normalize=True).values[1], 2)}.\")"
   ]
  },
  {
   "cell_type": "markdown",
   "metadata": {},
   "source": [
    "## Task 3"
   ]
  },
  {
   "cell_type": "markdown",
   "metadata": {},
   "source": [
    "Найди среднее время заполнения опроса в **минутах**. Результат округли до двух знаков после запятой"
   ]
  },
  {
   "cell_type": "code",
   "execution_count": 7,
   "metadata": {},
   "outputs": [
    {
     "name": "stdout",
     "output_type": "stream",
     "text": [
      "Среднее время заполнения опроса в минутах: 168.17.\n"
     ]
    }
   ],
   "source": [
    "# Код тут\n",
    "\n",
    "print(f\"Среднее время заполнения опроса в минутах: {round(data['Duration (in seconds)'].astype(int).mean() / 60, 2)}.\")"
   ]
  },
  {
   "cell_type": "markdown",
   "metadata": {},
   "source": [
    "## Task 4"
   ]
  },
  {
   "cell_type": "markdown",
   "metadata": {},
   "source": [
    "Выведи топ-3 образовательных курса, которые указали респонденты. P.S Это вопрос Q6"
   ]
  },
  {
   "cell_type": "code",
   "execution_count": 8,
   "metadata": {},
   "outputs": [
    {
     "data": {
      "text/plain": [
       "['Q6_1',\n",
       " 'Q6_2',\n",
       " 'Q6_3',\n",
       " 'Q6_4',\n",
       " 'Q6_5',\n",
       " 'Q6_6',\n",
       " 'Q6_7',\n",
       " 'Q6_8',\n",
       " 'Q6_9',\n",
       " 'Q6_10',\n",
       " 'Q6_11',\n",
       " 'Q6_12']"
      ]
     },
     "execution_count": 8,
     "metadata": {},
     "output_type": "execute_result"
    }
   ],
   "source": [
    "# Код тут\n",
    "\n",
    "# формирую словарь колонок, которые начинаются на Q6:\n",
    "\n",
    "q6_columns = [col for col in data.columns if col.startswith('Q6')]\n",
    "\n",
    "q6_columns"
   ]
  },
  {
   "cell_type": "code",
   "execution_count": 9,
   "metadata": {},
   "outputs": [
    {
     "data": {
      "text/html": [
       "<div>\n",
       "<style scoped>\n",
       "    .dataframe tbody tr th:only-of-type {\n",
       "        vertical-align: middle;\n",
       "    }\n",
       "\n",
       "    .dataframe tbody tr th {\n",
       "        vertical-align: top;\n",
       "    }\n",
       "\n",
       "    .dataframe thead th {\n",
       "        text-align: right;\n",
       "    }\n",
       "</style>\n",
       "<table border=\"1\" class=\"dataframe\">\n",
       "  <thead>\n",
       "    <tr style=\"text-align: right;\">\n",
       "      <th></th>\n",
       "      <th>questions</th>\n",
       "      <th>value</th>\n",
       "    </tr>\n",
       "  </thead>\n",
       "  <tbody>\n",
       "    <tr>\n",
       "      <th>0</th>\n",
       "      <td>Q6_1</td>\n",
       "      <td>NaN</td>\n",
       "    </tr>\n",
       "    <tr>\n",
       "      <th>1</th>\n",
       "      <td>Q6_1</td>\n",
       "      <td>NaN</td>\n",
       "    </tr>\n",
       "    <tr>\n",
       "      <th>2</th>\n",
       "      <td>Q6_1</td>\n",
       "      <td>Coursera</td>\n",
       "    </tr>\n",
       "    <tr>\n",
       "      <th>3</th>\n",
       "      <td>Q6_1</td>\n",
       "      <td>Coursera</td>\n",
       "    </tr>\n",
       "    <tr>\n",
       "      <th>4</th>\n",
       "      <td>Q6_1</td>\n",
       "      <td>NaN</td>\n",
       "    </tr>\n",
       "    <tr>\n",
       "      <th>...</th>\n",
       "      <td>...</td>\n",
       "      <td>...</td>\n",
       "    </tr>\n",
       "    <tr>\n",
       "      <th>287959</th>\n",
       "      <td>Q6_12</td>\n",
       "      <td>NaN</td>\n",
       "    </tr>\n",
       "    <tr>\n",
       "      <th>287960</th>\n",
       "      <td>Q6_12</td>\n",
       "      <td>NaN</td>\n",
       "    </tr>\n",
       "    <tr>\n",
       "      <th>287961</th>\n",
       "      <td>Q6_12</td>\n",
       "      <td>NaN</td>\n",
       "    </tr>\n",
       "    <tr>\n",
       "      <th>287962</th>\n",
       "      <td>Q6_12</td>\n",
       "      <td>NaN</td>\n",
       "    </tr>\n",
       "    <tr>\n",
       "      <th>287963</th>\n",
       "      <td>Q6_12</td>\n",
       "      <td>Other</td>\n",
       "    </tr>\n",
       "  </tbody>\n",
       "</table>\n",
       "<p>287964 rows × 2 columns</p>\n",
       "</div>"
      ],
      "text/plain": [
       "       questions     value\n",
       "0           Q6_1       NaN\n",
       "1           Q6_1       NaN\n",
       "2           Q6_1  Coursera\n",
       "3           Q6_1  Coursera\n",
       "4           Q6_1       NaN\n",
       "...          ...       ...\n",
       "287959     Q6_12       NaN\n",
       "287960     Q6_12       NaN\n",
       "287961     Q6_12       NaN\n",
       "287962     Q6_12       NaN\n",
       "287963     Q6_12     Other\n",
       "\n",
       "[287964 rows x 2 columns]"
      ]
     },
     "execution_count": 9,
     "metadata": {},
     "output_type": "execute_result"
    }
   ],
   "source": [
    "# объединяю все колонки в одну:\n",
    "\n",
    "courses = data[q6_columns].melt(var_name='questions', value_vars=q6_columns)\n",
    "\n",
    "courses"
   ]
  },
  {
   "cell_type": "code",
   "execution_count": 10,
   "metadata": {},
   "outputs": [
    {
     "data": {
      "text/plain": [
       "Index(['Coursera', 'University Courses (resulting in a university degree)',\n",
       "       'Kaggle Learn Courses'],\n",
       "      dtype='object')"
      ]
     },
     "execution_count": 10,
     "metadata": {},
     "output_type": "execute_result"
    }
   ],
   "source": [
    "# топ-3 образовательных курса:\n",
    "\n",
    "courses_top3 = courses['value'].value_counts().head(3).index\n",
    "\n",
    "courses_top3"
   ]
  },
  {
   "cell_type": "code",
   "execution_count": 11,
   "metadata": {},
   "outputs": [
    {
     "name": "stdout",
     "output_type": "stream",
     "text": [
      "Топ-3 образовательных курса, которые указали респонденты: \n",
      "('Coursera', 'University Courses (resulting in a university degree)', 'Kaggle Learn Courses')\n"
     ]
    }
   ],
   "source": [
    "# ответ: \n",
    "\n",
    "print(f\"Топ-3 образовательных курса, которые указали респонденты: \\n{courses_top3[0], courses_top3[1], courses_top3[2]}\")"
   ]
  },
  {
   "cell_type": "markdown",
   "metadata": {},
   "source": [
    "## Task 5"
   ]
  },
  {
   "cell_type": "markdown",
   "metadata": {},
   "source": [
    "Узнай топ-5 языков программирования, которые регулярно используют Data Scientists в своей работе"
   ]
  },
  {
   "cell_type": "code",
   "execution_count": 12,
   "metadata": {},
   "outputs": [
    {
     "data": {
      "text/html": [
       "<div>\n",
       "<style scoped>\n",
       "    .dataframe tbody tr th:only-of-type {\n",
       "        vertical-align: middle;\n",
       "    }\n",
       "\n",
       "    .dataframe tbody tr th {\n",
       "        vertical-align: top;\n",
       "    }\n",
       "\n",
       "    .dataframe thead th {\n",
       "        text-align: right;\n",
       "    }\n",
       "</style>\n",
       "<table border=\"1\" class=\"dataframe\">\n",
       "  <thead>\n",
       "    <tr style=\"text-align: right;\">\n",
       "      <th></th>\n",
       "      <th>Duration (in seconds)</th>\n",
       "      <th>Q2</th>\n",
       "      <th>Q3</th>\n",
       "      <th>Q4</th>\n",
       "      <th>Q5</th>\n",
       "      <th>Q6_1</th>\n",
       "      <th>Q6_2</th>\n",
       "      <th>Q6_3</th>\n",
       "      <th>Q6_4</th>\n",
       "      <th>Q6_5</th>\n",
       "      <th>...</th>\n",
       "      <th>Q44_3</th>\n",
       "      <th>Q44_4</th>\n",
       "      <th>Q44_5</th>\n",
       "      <th>Q44_6</th>\n",
       "      <th>Q44_7</th>\n",
       "      <th>Q44_8</th>\n",
       "      <th>Q44_9</th>\n",
       "      <th>Q44_10</th>\n",
       "      <th>Q44_11</th>\n",
       "      <th>Q44_12</th>\n",
       "    </tr>\n",
       "  </thead>\n",
       "  <tbody>\n",
       "    <tr>\n",
       "      <th>4</th>\n",
       "      <td>851</td>\n",
       "      <td>55-59</td>\n",
       "      <td>Man</td>\n",
       "      <td>France</td>\n",
       "      <td>No</td>\n",
       "      <td>Coursera</td>\n",
       "      <td>NaN</td>\n",
       "      <td>Kaggle Learn Courses</td>\n",
       "      <td>NaN</td>\n",
       "      <td>NaN</td>\n",
       "      <td>...</td>\n",
       "      <td>NaN</td>\n",
       "      <td>Kaggle (notebooks, forums, etc)</td>\n",
       "      <td>Course Forums (forums.fast.ai, Coursera forums...</td>\n",
       "      <td>NaN</td>\n",
       "      <td>NaN</td>\n",
       "      <td>Blogs (Towards Data Science, Analytics Vidhya,...</td>\n",
       "      <td>NaN</td>\n",
       "      <td>NaN</td>\n",
       "      <td>NaN</td>\n",
       "      <td>NaN</td>\n",
       "    </tr>\n",
       "    <tr>\n",
       "      <th>17</th>\n",
       "      <td>679</td>\n",
       "      <td>40-44</td>\n",
       "      <td>Man</td>\n",
       "      <td>United States of America</td>\n",
       "      <td>No</td>\n",
       "      <td>Coursera</td>\n",
       "      <td>NaN</td>\n",
       "      <td>NaN</td>\n",
       "      <td>NaN</td>\n",
       "      <td>NaN</td>\n",
       "      <td>...</td>\n",
       "      <td>NaN</td>\n",
       "      <td>NaN</td>\n",
       "      <td>NaN</td>\n",
       "      <td>NaN</td>\n",
       "      <td>Podcasts (Chai Time Data Science, O’Reilly Dat...</td>\n",
       "      <td>Blogs (Towards Data Science, Analytics Vidhya,...</td>\n",
       "      <td>Journal Publications (peer-reviewed journals, ...</td>\n",
       "      <td>NaN</td>\n",
       "      <td>NaN</td>\n",
       "      <td>NaN</td>\n",
       "    </tr>\n",
       "    <tr>\n",
       "      <th>18</th>\n",
       "      <td>10619</td>\n",
       "      <td>30-34</td>\n",
       "      <td>Man</td>\n",
       "      <td>United States of America</td>\n",
       "      <td>No</td>\n",
       "      <td>Coursera</td>\n",
       "      <td>NaN</td>\n",
       "      <td>Kaggle Learn Courses</td>\n",
       "      <td>NaN</td>\n",
       "      <td>NaN</td>\n",
       "      <td>...</td>\n",
       "      <td>Reddit (r/machinelearning, etc)</td>\n",
       "      <td>Kaggle (notebooks, forums, etc)</td>\n",
       "      <td>NaN</td>\n",
       "      <td>YouTube (Kaggle YouTube, Cloud AI Adventures, ...</td>\n",
       "      <td>NaN</td>\n",
       "      <td>Blogs (Towards Data Science, Analytics Vidhya,...</td>\n",
       "      <td>NaN</td>\n",
       "      <td>NaN</td>\n",
       "      <td>NaN</td>\n",
       "      <td>NaN</td>\n",
       "    </tr>\n",
       "    <tr>\n",
       "      <th>30</th>\n",
       "      <td>1481</td>\n",
       "      <td>35-39</td>\n",
       "      <td>Man</td>\n",
       "      <td>Chile</td>\n",
       "      <td>No</td>\n",
       "      <td>NaN</td>\n",
       "      <td>NaN</td>\n",
       "      <td>NaN</td>\n",
       "      <td>DataCamp</td>\n",
       "      <td>NaN</td>\n",
       "      <td>...</td>\n",
       "      <td>NaN</td>\n",
       "      <td>Kaggle (notebooks, forums, etc)</td>\n",
       "      <td>Course Forums (forums.fast.ai, Coursera forums...</td>\n",
       "      <td>NaN</td>\n",
       "      <td>NaN</td>\n",
       "      <td>Blogs (Towards Data Science, Analytics Vidhya,...</td>\n",
       "      <td>NaN</td>\n",
       "      <td>NaN</td>\n",
       "      <td>NaN</td>\n",
       "      <td>NaN</td>\n",
       "    </tr>\n",
       "    <tr>\n",
       "      <th>36</th>\n",
       "      <td>506</td>\n",
       "      <td>25-29</td>\n",
       "      <td>Man</td>\n",
       "      <td>Japan</td>\n",
       "      <td>No</td>\n",
       "      <td>NaN</td>\n",
       "      <td>NaN</td>\n",
       "      <td>NaN</td>\n",
       "      <td>NaN</td>\n",
       "      <td>NaN</td>\n",
       "      <td>...</td>\n",
       "      <td>NaN</td>\n",
       "      <td>Kaggle (notebooks, forums, etc)</td>\n",
       "      <td>NaN</td>\n",
       "      <td>NaN</td>\n",
       "      <td>NaN</td>\n",
       "      <td>NaN</td>\n",
       "      <td>NaN</td>\n",
       "      <td>NaN</td>\n",
       "      <td>NaN</td>\n",
       "      <td>NaN</td>\n",
       "    </tr>\n",
       "  </tbody>\n",
       "</table>\n",
       "<p>5 rows × 296 columns</p>\n",
       "</div>"
      ],
      "text/plain": [
       "   Duration (in seconds)     Q2   Q3                        Q4  Q5      Q6_1  \\\n",
       "4                    851  55-59  Man                    France  No  Coursera   \n",
       "17                   679  40-44  Man  United States of America  No  Coursera   \n",
       "18                 10619  30-34  Man  United States of America  No  Coursera   \n",
       "30                  1481  35-39  Man                     Chile  No       NaN   \n",
       "36                   506  25-29  Man                     Japan  No       NaN   \n",
       "\n",
       "   Q6_2                  Q6_3      Q6_4 Q6_5  ...  \\\n",
       "4   NaN  Kaggle Learn Courses       NaN  NaN  ...   \n",
       "17  NaN                   NaN       NaN  NaN  ...   \n",
       "18  NaN  Kaggle Learn Courses       NaN  NaN  ...   \n",
       "30  NaN                   NaN  DataCamp  NaN  ...   \n",
       "36  NaN                   NaN       NaN  NaN  ...   \n",
       "\n",
       "                              Q44_3                            Q44_4  \\\n",
       "4                               NaN  Kaggle (notebooks, forums, etc)   \n",
       "17                              NaN                              NaN   \n",
       "18  Reddit (r/machinelearning, etc)  Kaggle (notebooks, forums, etc)   \n",
       "30                              NaN  Kaggle (notebooks, forums, etc)   \n",
       "36                              NaN  Kaggle (notebooks, forums, etc)   \n",
       "\n",
       "                                                Q44_5  \\\n",
       "4   Course Forums (forums.fast.ai, Coursera forums...   \n",
       "17                                                NaN   \n",
       "18                                                NaN   \n",
       "30  Course Forums (forums.fast.ai, Coursera forums...   \n",
       "36                                                NaN   \n",
       "\n",
       "                                                Q44_6  \\\n",
       "4                                                 NaN   \n",
       "17                                                NaN   \n",
       "18  YouTube (Kaggle YouTube, Cloud AI Adventures, ...   \n",
       "30                                                NaN   \n",
       "36                                                NaN   \n",
       "\n",
       "                                                Q44_7  \\\n",
       "4                                                 NaN   \n",
       "17  Podcasts (Chai Time Data Science, O’Reilly Dat...   \n",
       "18                                                NaN   \n",
       "30                                                NaN   \n",
       "36                                                NaN   \n",
       "\n",
       "                                                Q44_8  \\\n",
       "4   Blogs (Towards Data Science, Analytics Vidhya,...   \n",
       "17  Blogs (Towards Data Science, Analytics Vidhya,...   \n",
       "18  Blogs (Towards Data Science, Analytics Vidhya,...   \n",
       "30  Blogs (Towards Data Science, Analytics Vidhya,...   \n",
       "36                                                NaN   \n",
       "\n",
       "                                                Q44_9 Q44_10 Q44_11 Q44_12  \n",
       "4                                                 NaN    NaN    NaN    NaN  \n",
       "17  Journal Publications (peer-reviewed journals, ...    NaN    NaN    NaN  \n",
       "18                                                NaN    NaN    NaN    NaN  \n",
       "30                                                NaN    NaN    NaN    NaN  \n",
       "36                                                NaN    NaN    NaN    NaN  \n",
       "\n",
       "[5 rows x 296 columns]"
      ]
     },
     "execution_count": 12,
     "metadata": {},
     "output_type": "execute_result"
    }
   ],
   "source": [
    "# Код тут\n",
    "\n",
    "# создаю датафрейм, где осталась только профессия Data Scientist:\n",
    "\n",
    "data_task5 = data[data['Q23'] == 'Data Scientist']\n",
    "\n",
    "data_task5.head()"
   ]
  },
  {
   "cell_type": "code",
   "execution_count": 13,
   "metadata": {},
   "outputs": [
    {
     "data": {
      "text/plain": [
       "['Q12_1',\n",
       " 'Q12_2',\n",
       " 'Q12_3',\n",
       " 'Q12_4',\n",
       " 'Q12_5',\n",
       " 'Q12_6',\n",
       " 'Q12_7',\n",
       " 'Q12_8',\n",
       " 'Q12_9',\n",
       " 'Q12_10',\n",
       " 'Q12_11',\n",
       " 'Q12_12',\n",
       " 'Q12_13',\n",
       " 'Q12_14',\n",
       " 'Q12_15']"
      ]
     },
     "execution_count": 13,
     "metadata": {},
     "output_type": "execute_result"
    }
   ],
   "source": [
    "# формирую словарь колонок, которые начинаются на Q12:\n",
    "\n",
    "q12_columns = [col for col in data_task5.columns if col.startswith('Q12')]\n",
    "\n",
    "q12_columns"
   ]
  },
  {
   "cell_type": "code",
   "execution_count": 14,
   "metadata": {},
   "outputs": [
    {
     "data": {
      "text/html": [
       "<div>\n",
       "<style scoped>\n",
       "    .dataframe tbody tr th:only-of-type {\n",
       "        vertical-align: middle;\n",
       "    }\n",
       "\n",
       "    .dataframe tbody tr th {\n",
       "        vertical-align: top;\n",
       "    }\n",
       "\n",
       "    .dataframe thead th {\n",
       "        text-align: right;\n",
       "    }\n",
       "</style>\n",
       "<table border=\"1\" class=\"dataframe\">\n",
       "  <thead>\n",
       "    <tr style=\"text-align: right;\">\n",
       "      <th></th>\n",
       "      <th>questions</th>\n",
       "      <th>value</th>\n",
       "    </tr>\n",
       "  </thead>\n",
       "  <tbody>\n",
       "    <tr>\n",
       "      <th>0</th>\n",
       "      <td>Q12_1</td>\n",
       "      <td>Python</td>\n",
       "    </tr>\n",
       "    <tr>\n",
       "      <th>1</th>\n",
       "      <td>Q12_1</td>\n",
       "      <td>Python</td>\n",
       "    </tr>\n",
       "    <tr>\n",
       "      <th>2</th>\n",
       "      <td>Q12_1</td>\n",
       "      <td>Python</td>\n",
       "    </tr>\n",
       "    <tr>\n",
       "      <th>3</th>\n",
       "      <td>Q12_1</td>\n",
       "      <td>Python</td>\n",
       "    </tr>\n",
       "    <tr>\n",
       "      <th>4</th>\n",
       "      <td>Q12_1</td>\n",
       "      <td>Python</td>\n",
       "    </tr>\n",
       "    <tr>\n",
       "      <th>...</th>\n",
       "      <td>...</td>\n",
       "      <td>...</td>\n",
       "    </tr>\n",
       "    <tr>\n",
       "      <th>28930</th>\n",
       "      <td>Q12_15</td>\n",
       "      <td>NaN</td>\n",
       "    </tr>\n",
       "    <tr>\n",
       "      <th>28931</th>\n",
       "      <td>Q12_15</td>\n",
       "      <td>NaN</td>\n",
       "    </tr>\n",
       "    <tr>\n",
       "      <th>28932</th>\n",
       "      <td>Q12_15</td>\n",
       "      <td>NaN</td>\n",
       "    </tr>\n",
       "    <tr>\n",
       "      <th>28933</th>\n",
       "      <td>Q12_15</td>\n",
       "      <td>NaN</td>\n",
       "    </tr>\n",
       "    <tr>\n",
       "      <th>28934</th>\n",
       "      <td>Q12_15</td>\n",
       "      <td>NaN</td>\n",
       "    </tr>\n",
       "  </tbody>\n",
       "</table>\n",
       "<p>28935 rows × 2 columns</p>\n",
       "</div>"
      ],
      "text/plain": [
       "      questions   value\n",
       "0         Q12_1  Python\n",
       "1         Q12_1  Python\n",
       "2         Q12_1  Python\n",
       "3         Q12_1  Python\n",
       "4         Q12_1  Python\n",
       "...         ...     ...\n",
       "28930    Q12_15     NaN\n",
       "28931    Q12_15     NaN\n",
       "28932    Q12_15     NaN\n",
       "28933    Q12_15     NaN\n",
       "28934    Q12_15     NaN\n",
       "\n",
       "[28935 rows x 2 columns]"
      ]
     },
     "execution_count": 14,
     "metadata": {},
     "output_type": "execute_result"
    }
   ],
   "source": [
    "# объединяю все колонки в одну:\n",
    "\n",
    "languages = data_task5[q12_columns].melt(var_name='questions', value_vars=q12_columns)\n",
    "\n",
    "languages"
   ]
  },
  {
   "cell_type": "code",
   "execution_count": 15,
   "metadata": {},
   "outputs": [
    {
     "data": {
      "text/plain": [
       "Index(['Python', 'SQL', 'R', 'Bash', 'Javascript'], dtype='object')"
      ]
     },
     "execution_count": 15,
     "metadata": {},
     "output_type": "execute_result"
    }
   ],
   "source": [
    "# топ-5 языков программирования:\n",
    "\n",
    "languages_top5 = languages['value'].value_counts().head(5).index\n",
    "\n",
    "languages_top5"
   ]
  },
  {
   "cell_type": "code",
   "execution_count": 16,
   "metadata": {},
   "outputs": [
    {
     "name": "stdout",
     "output_type": "stream",
     "text": [
      "Топ-5 языков программирования, которые регулярно используют Data Scientists в своей работе: \n",
      "('Python', 'SQL', 'R', 'Bash', 'Javascript')\n"
     ]
    }
   ],
   "source": [
    "# ответ: \n",
    "\n",
    "print(f\"Топ-5 языков программирования, которые регулярно используют Data Scientists в своей работе: \\n{languages_top5[0], languages_top5[1], languages_top5[2], languages_top5[3], languages_top5[4]}\")"
   ]
  },
  {
   "cell_type": "markdown",
   "metadata": {},
   "source": [
    "## Task 6"
   ]
  },
  {
   "cell_type": "markdown",
   "metadata": {},
   "source": [
    "Узнай средний доход среди 'Data Scientist' специалистов и средний доход среди 'Machine Learning/ MLops Engineer' \\\n",
    "Т.к. в колонке Q29 указан промежуток, то возьми среднее значение из промежутка. \n",
    "\n",
    "Например: \n",
    "- '15,000-19,999' - 17500, \n",
    "- '125,000-149,999' - 137500. \n",
    "- \\> $1,000,000 - оставляем 1000000\n",
    "\n",
    "Средние доход **округли до целого.**"
   ]
  },
  {
   "cell_type": "code",
   "execution_count": 17,
   "metadata": {},
   "outputs": [
    {
     "data": {
      "text/plain": [
       "'Select the title most similar to your current role (or most recent title if retired): - Selected Choice'"
      ]
     },
     "execution_count": 17,
     "metadata": {},
     "output_type": "execute_result"
    }
   ],
   "source": [
    "# смотрю содержание вопроса Q23:\n",
    "\n",
    "name2question['Q23']"
   ]
  },
  {
   "cell_type": "code",
   "execution_count": 18,
   "metadata": {
    "scrolled": true
   },
   "outputs": [
    {
     "data": {
      "text/plain": [
       "Data Scientist                                                      1929\n",
       "Data Analyst (Business, Marketing, Financial, Quantitative, etc)    1538\n",
       "Currently not employed                                              1432\n",
       "Software Engineer                                                    980\n",
       "Teacher / professor                                                  833\n",
       "Manager (Program, Project, Operations, Executive-level, etc)         832\n",
       "Other                                                                754\n",
       "Research Scientist                                                   593\n",
       "Machine Learning/ MLops Engineer                                     571\n",
       "Engineer (non-software)                                              465\n",
       "Data Engineer                                                        352\n",
       "Statistician                                                         125\n",
       "Data Architect                                                        95\n",
       "Data Administrator                                                    70\n",
       "Developer Advocate                                                    61\n",
       "Name: Q23, dtype: int64"
      ]
     },
     "execution_count": 18,
     "metadata": {},
     "output_type": "execute_result"
    }
   ],
   "source": [
    "# смотрю значения и их количество в признаке Q23: \n",
    "\n",
    "data['Q23'].value_counts()"
   ]
  },
  {
   "cell_type": "code",
   "execution_count": 19,
   "metadata": {},
   "outputs": [
    {
     "data": {
      "text/plain": [
       "'What is your current yearly compensation (approximate $USD)?'"
      ]
     },
     "execution_count": 19,
     "metadata": {},
     "output_type": "execute_result"
    }
   ],
   "source": [
    "# смотрю содержание вопроса Q29:\n",
    "\n",
    "name2question['Q29']"
   ]
  },
  {
   "cell_type": "code",
   "execution_count": 20,
   "metadata": {
    "scrolled": true
   },
   "outputs": [
    {
     "data": {
      "text/plain": [
       "$0-999              1112\n",
       "10,000-14,999        493\n",
       "30,000-39,999        464\n",
       "1,000-1,999          444\n",
       "40,000-49,999        421\n",
       "100,000-124,999      404\n",
       "5,000-7,499          391\n",
       "50,000-59,999        366\n",
       "7,500-9,999          362\n",
       "150,000-199,999      342\n",
       "20,000-24,999        337\n",
       "60,000-69,999        318\n",
       "15,000-19,999        299\n",
       "70,000-79,999        289\n",
       "25,000-29,999        277\n",
       "2,000-2,999          271\n",
       "125,000-149,999      269\n",
       "3,000-3,999          244\n",
       "4,000-4,999          234\n",
       "80,000-89,999        222\n",
       "90,000-99,999        197\n",
       "200,000-249,999      155\n",
       "250,000-299,999       78\n",
       "300,000-499,999       76\n",
       "$500,000-999,999      48\n",
       ">$1,000,000           23\n",
       "Name: Q29, dtype: int64"
      ]
     },
     "execution_count": 20,
     "metadata": {},
     "output_type": "execute_result"
    }
   ],
   "source": [
    "# смотрю значения и их количество в признаке Q29: \n",
    "\n",
    "data['Q29'].value_counts()"
   ]
  },
  {
   "cell_type": "code",
   "execution_count": 21,
   "metadata": {},
   "outputs": [],
   "source": [
    "# создаю словарь, переводя промежутки в среднее:\n",
    "\n",
    "compensation_mapping = {\n",
    "    '$0-999': 500,\n",
    "    '40,000-49,999': 45000,\n",
    "    '150,000-199,999': 175000,\n",
    "    '100,000-124,999': 112500,\n",
    "    '10,000-14,999': 12500,\n",
    "    '30,000-39,999': 35000,\n",
    "    '50,000-59,999': 55000,\n",
    "    '1,000-1,999': 1500,\n",
    "    '125,000-149,999': 137500,\n",
    "    '60,000-69,999': 65000,\n",
    "    '20,000-24,999': 22500,\n",
    "    '25,000-29,999': 27500,\n",
    "    '200,000-249,999': 225000,\n",
    "    '70,000-79,999': 75000,\n",
    "    '80,000-89,999': 85000,\n",
    "    '5,000-7,499': 6250,\n",
    "    '15,000-19,999': 17500,\n",
    "    '7,500-9,999': 8750,\n",
    "    '4,000-4,999': 4500,\n",
    "    '2,000-2,999': 2500,\n",
    "    '90,000-99,999': 95000,\n",
    "    '3,000-3,999': 3500,\n",
    "    '250,000-299,999': 275000,\n",
    "    '300,000-499,999': 400000,\n",
    "    '>$1,000,000': 1000000,\n",
    "    '$500,000-999,999': 750000\n",
    "}"
   ]
  },
  {
   "cell_type": "code",
   "execution_count": 22,
   "metadata": {},
   "outputs": [],
   "source": [
    "# создаю новый признак Q29_NEW, применяя вышеуказанную замену: \n",
    "\n",
    "data['Q29_NEW'] = data['Q29'].map(compensation_mapping)"
   ]
  },
  {
   "cell_type": "code",
   "execution_count": 23,
   "metadata": {},
   "outputs": [
    {
     "data": {
      "text/plain": [
       "500.0        1112\n",
       "12500.0       493\n",
       "35000.0       464\n",
       "1500.0        444\n",
       "45000.0       421\n",
       "112500.0      404\n",
       "6250.0        391\n",
       "55000.0       366\n",
       "8750.0        362\n",
       "175000.0      342\n",
       "22500.0       337\n",
       "65000.0       318\n",
       "17500.0       299\n",
       "75000.0       289\n",
       "27500.0       277\n",
       "2500.0        271\n",
       "137500.0      269\n",
       "3500.0        244\n",
       "4500.0        234\n",
       "85000.0       222\n",
       "95000.0       197\n",
       "225000.0      155\n",
       "275000.0       78\n",
       "400000.0       76\n",
       "750000.0       48\n",
       "1000000.0      23\n",
       "Name: Q29_NEW, dtype: int64"
      ]
     },
     "execution_count": 23,
     "metadata": {},
     "output_type": "execute_result"
    }
   ],
   "source": [
    "# смотрю значения и их количество в признаке Q29_NEW: \n",
    "\n",
    "data['Q29_NEW'].value_counts()"
   ]
  },
  {
   "cell_type": "code",
   "execution_count": 24,
   "metadata": {},
   "outputs": [
    {
     "data": {
      "text/html": [
       "<div>\n",
       "<style scoped>\n",
       "    .dataframe tbody tr th:only-of-type {\n",
       "        vertical-align: middle;\n",
       "    }\n",
       "\n",
       "    .dataframe tbody tr th {\n",
       "        vertical-align: top;\n",
       "    }\n",
       "\n",
       "    .dataframe thead th {\n",
       "        text-align: right;\n",
       "    }\n",
       "</style>\n",
       "<table border=\"1\" class=\"dataframe\">\n",
       "  <thead>\n",
       "    <tr style=\"text-align: right;\">\n",
       "      <th></th>\n",
       "      <th>Q23</th>\n",
       "      <th>Q29_NEW</th>\n",
       "    </tr>\n",
       "  </thead>\n",
       "  <tbody>\n",
       "    <tr>\n",
       "      <th>4</th>\n",
       "      <td>Data Scientist</td>\n",
       "      <td>27500.0</td>\n",
       "    </tr>\n",
       "    <tr>\n",
       "      <th>8</th>\n",
       "      <td>Software Engineer</td>\n",
       "      <td>112500.0</td>\n",
       "    </tr>\n",
       "    <tr>\n",
       "      <th>9</th>\n",
       "      <td>Research Scientist</td>\n",
       "      <td>112500.0</td>\n",
       "    </tr>\n",
       "    <tr>\n",
       "      <th>14</th>\n",
       "      <td>Developer Advocate</td>\n",
       "      <td>225000.0</td>\n",
       "    </tr>\n",
       "    <tr>\n",
       "      <th>17</th>\n",
       "      <td>Data Scientist</td>\n",
       "      <td>225000.0</td>\n",
       "    </tr>\n",
       "    <tr>\n",
       "      <th>...</th>\n",
       "      <td>...</td>\n",
       "      <td>...</td>\n",
       "    </tr>\n",
       "    <tr>\n",
       "      <th>23985</th>\n",
       "      <td>Data Architect</td>\n",
       "      <td>112500.0</td>\n",
       "    </tr>\n",
       "    <tr>\n",
       "      <th>23990</th>\n",
       "      <td>Data Scientist</td>\n",
       "      <td>2500.0</td>\n",
       "    </tr>\n",
       "    <tr>\n",
       "      <th>23991</th>\n",
       "      <td>Data Engineer</td>\n",
       "      <td>500.0</td>\n",
       "    </tr>\n",
       "    <tr>\n",
       "      <th>23995</th>\n",
       "      <td>Engineer (non-software)</td>\n",
       "      <td>27500.0</td>\n",
       "    </tr>\n",
       "    <tr>\n",
       "      <th>23996</th>\n",
       "      <td>Research Scientist</td>\n",
       "      <td>17500.0</td>\n",
       "    </tr>\n",
       "  </tbody>\n",
       "</table>\n",
       "<p>8136 rows × 2 columns</p>\n",
       "</div>"
      ],
      "text/plain": [
       "                           Q23   Q29_NEW\n",
       "4               Data Scientist   27500.0\n",
       "8            Software Engineer  112500.0\n",
       "9           Research Scientist  112500.0\n",
       "14          Developer Advocate  225000.0\n",
       "17              Data Scientist  225000.0\n",
       "...                        ...       ...\n",
       "23985           Data Architect  112500.0\n",
       "23990           Data Scientist    2500.0\n",
       "23991            Data Engineer     500.0\n",
       "23995  Engineer (non-software)   27500.0\n",
       "23996       Research Scientist   17500.0\n",
       "\n",
       "[8136 rows x 2 columns]"
      ]
     },
     "execution_count": 24,
     "metadata": {},
     "output_type": "execute_result"
    }
   ],
   "source": [
    "# создаю датафрейм из признаков Q23 и Q29_NEW и удаляю пропуски значений в нем: \n",
    "\n",
    "compensation = data[['Q23', 'Q29_NEW']].dropna()\n",
    "\n",
    "compensation"
   ]
  },
  {
   "cell_type": "code",
   "execution_count": 25,
   "metadata": {
    "scrolled": true
   },
   "outputs": [
    {
     "data": {
      "text/plain": [
       "Q23\n",
       "Data Administrator                                                   23559.701493\n",
       "Data Analyst (Business, Marketing, Financial, Quantitative, etc)     33407.058389\n",
       "Data Architect                                                       92658.536585\n",
       "Data Engineer                                                        48551.393728\n",
       "Data Scientist                                                       70337.236534\n",
       "Developer Advocate                                                   71032.407407\n",
       "Engineer (non-software)                                              33358.353511\n",
       "Machine Learning/ MLops Engineer                                     67437.747036\n",
       "Manager (Program, Project, Operations, Executive-level, etc)        100944.369973\n",
       "Other                                                                49662.023460\n",
       "Research Scientist                                                   71432.380952\n",
       "Software Engineer                                                    51028.230501\n",
       "Statistician                                                         34706.018519\n",
       "Teacher / professor                                                  33284.182306\n",
       "Name: Q29_NEW, dtype: float64"
      ]
     },
     "execution_count": 25,
     "metadata": {},
     "output_type": "execute_result"
    }
   ],
   "source": [
    "# создаю итоговый датафрейм при помощи группировки: \n",
    "\n",
    "role_compensation = compensation.groupby('Q23')['Q29_NEW'].mean()\n",
    "\n",
    "role_compensation"
   ]
  },
  {
   "cell_type": "code",
   "execution_count": 26,
   "metadata": {},
   "outputs": [
    {
     "name": "stdout",
     "output_type": "stream",
     "text": [
      "Средние доходы среди специалистов 'Data Scientist': 70337.0 $USD и 'Machine Learning/ MLops Engineer': 67438.0 $USD.\n"
     ]
    }
   ],
   "source": [
    "# ответ: \n",
    "\n",
    "print(f\"Средние доходы среди специалистов 'Data Scientist': {round(role_compensation['Data Scientist'], 0)} $USD и 'Machine Learning/ MLops Engineer': {round(role_compensation['Machine Learning/ MLops Engineer'], 0)} $USD.\")"
   ]
  },
  {
   "cell_type": "markdown",
   "metadata": {},
   "source": [
    "## Дополнительно"
   ]
  },
  {
   "cell_type": "markdown",
   "metadata": {},
   "source": [
    "Найди какой-нибудь интересный инсайт из этих данных. Пиши свои интересные инсайты в чат проекта с хэштегом.\n",
    "#инсайт\n",
    "\n",
    "Автор самого интересного инсайта получит p2p баллы. Поверь, они тебе понадобятся"
   ]
  },
  {
   "cell_type": "code",
   "execution_count": 27,
   "metadata": {},
   "outputs": [
    {
     "name": "stdout",
     "output_type": "stream",
     "text": [
      "Всего опрошенных респондентов: 23997 человек.\n"
     ]
    }
   ],
   "source": [
    "# Код тут\n",
    "\n",
    "print(f'Всего опрошенных респондентов: {data.shape[0]} человек.')"
   ]
  },
  {
   "cell_type": "code",
   "execution_count": 28,
   "metadata": {},
   "outputs": [
    {
     "name": "stdout",
     "output_type": "stream",
     "text": [
      "Русских респондентов мужского пола в возрасте 35-39 лет: 24 человека.\n"
     ]
    }
   ],
   "source": [
    "data_insight = data[(data['Q2'] == '35-39') & (data['Q3'] == 'Man') & (data['Q4'] == 'Russia')]\n",
    "\n",
    "print(f\"Русских респондентов мужского пола в возрасте 35-39 лет: {data_insight.shape[0]} человека.\")"
   ]
  },
  {
   "cell_type": "markdown",
   "metadata": {},
   "source": [
    "Инсайт должен быть прикладным прежде всего. :) \n",
    "\n",
    "8 августа 2023 года мне будет 39 лет. Я русский мужчина. "
   ]
  },
  {
   "cell_type": "code",
   "execution_count": 29,
   "metadata": {},
   "outputs": [
    {
     "name": "stdout",
     "output_type": "stream",
     "text": [
      "И значит, вероятность того, что я стану дата саентистом приблизительно равна 0.1 %...\n"
     ]
    }
   ],
   "source": [
    "print(f\"И значит, вероятность того, что я стану дата саентистом приблизительно равна {round(data_insight.shape[0] / data.shape[0] * 100, 2)} %...\")"
   ]
  },
  {
   "cell_type": "code",
   "execution_count": null,
   "metadata": {},
   "outputs": [],
   "source": []
  },
  {
   "cell_type": "code",
   "execution_count": null,
   "metadata": {},
   "outputs": [],
   "source": []
  },
  {
   "cell_type": "markdown",
   "metadata": {},
   "source": [
    "## Task 6"
   ]
  },
  {
   "cell_type": "markdown",
   "metadata": {},
   "source": [
    "Узнай средний доход среди 'Data Scientist' специалистов и средний доход среди 'Machine Learning/ MLops Engineer' \\\n",
    "Т.к. в колонке Q29 указан промежуток, то возьми среднее значение из промежутка. \n",
    "\n",
    "Например: \n",
    "- '15,000-19,999' - 17500, \n",
    "- '125,000-149,999' - 137500. \n",
    "- \\> $1,000,000 - оставляем 1000000\n",
    "\n",
    "Средние доход **округли до целого.**"
   ]
  },
  {
   "cell_type": "code",
   "execution_count": 30,
   "metadata": {
    "scrolled": true
   },
   "outputs": [
    {
     "data": {
      "text/plain": [
       "$0-999              1112\n",
       "10,000-14,999        493\n",
       "30,000-39,999        464\n",
       "1,000-1,999          444\n",
       "40,000-49,999        421\n",
       "100,000-124,999      404\n",
       "5,000-7,499          391\n",
       "50,000-59,999        366\n",
       "7,500-9,999          362\n",
       "150,000-199,999      342\n",
       "20,000-24,999        337\n",
       "60,000-69,999        318\n",
       "15,000-19,999        299\n",
       "70,000-79,999        289\n",
       "25,000-29,999        277\n",
       "2,000-2,999          271\n",
       "125,000-149,999      269\n",
       "3,000-3,999          244\n",
       "4,000-4,999          234\n",
       "80,000-89,999        222\n",
       "90,000-99,999        197\n",
       "200,000-249,999      155\n",
       "250,000-299,999       78\n",
       "300,000-499,999       76\n",
       "$500,000-999,999      48\n",
       ">$1,000,000           23\n",
       "Name: Q29, dtype: int64"
      ]
     },
     "execution_count": 30,
     "metadata": {},
     "output_type": "execute_result"
    }
   ],
   "source": [
    "data['Q29'].value_counts()"
   ]
  },
  {
   "cell_type": "code",
   "execution_count": 35,
   "metadata": {},
   "outputs": [
    {
     "data": {
      "text/plain": [
       "1                  NaN\n",
       "2                  NaN\n",
       "3                  NaN\n",
       "4        25,000-29,999\n",
       "5                  NaN\n",
       "             ...      \n",
       "23993              NaN\n",
       "23994              NaN\n",
       "23995    25,000-29,999\n",
       "23996    15,000-19,999\n",
       "23997              NaN\n",
       "Name: Q29, Length: 23997, dtype: object"
      ]
     },
     "execution_count": 35,
     "metadata": {},
     "output_type": "execute_result"
    }
   ],
   "source": [
    "data['Q29']"
   ]
  },
  {
   "cell_type": "code",
   "execution_count": 34,
   "metadata": {},
   "outputs": [
    {
     "data": {
      "text/plain": [
       "1        <class 'float'>\n",
       "2        <class 'float'>\n",
       "3        <class 'float'>\n",
       "4          <class 'str'>\n",
       "5        <class 'float'>\n",
       "              ...       \n",
       "23993    <class 'float'>\n",
       "23994    <class 'float'>\n",
       "23995      <class 'str'>\n",
       "23996      <class 'str'>\n",
       "23997    <class 'float'>\n",
       "Name: Q29, Length: 23997, dtype: object"
      ]
     },
     "execution_count": 34,
     "metadata": {},
     "output_type": "execute_result"
    }
   ],
   "source": [
    "data['Q29'].apply(type)"
   ]
  },
  {
   "cell_type": "code",
   "execution_count": 33,
   "metadata": {},
   "outputs": [
    {
     "data": {
      "text/plain": [
       "Duration (in seconds)     object\n",
       "Q2                        object\n",
       "Q3                        object\n",
       "Q4                        object\n",
       "Q5                        object\n",
       "                          ...   \n",
       "Q44_9                     object\n",
       "Q44_10                    object\n",
       "Q44_11                    object\n",
       "Q44_12                    object\n",
       "Q29_NEW                  float64\n",
       "Length: 297, dtype: object"
      ]
     },
     "execution_count": 33,
     "metadata": {},
     "output_type": "execute_result"
    }
   ],
   "source": [
    "data.dtypes"
   ]
  },
  {
   "cell_type": "code",
   "execution_count": null,
   "metadata": {},
   "outputs": [],
   "source": []
  }
 ],
 "metadata": {
  "kernelspec": {
   "display_name": "Python 3 (ipykernel)",
   "language": "python",
   "name": "python3"
  },
  "language_info": {
   "codemirror_mode": {
    "name": "ipython",
    "version": 3
   },
   "file_extension": ".py",
   "mimetype": "text/x-python",
   "name": "python",
   "nbconvert_exporter": "python",
   "pygments_lexer": "ipython3",
   "version": "3.10.9"
  }
 },
 "nbformat": 4,
 "nbformat_minor": 4
}
