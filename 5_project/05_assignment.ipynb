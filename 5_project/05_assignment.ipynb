{
  "cells": [
    {
      "cell_type": "markdown",
      "metadata": {
        "id": "98YvOJxh7_dQ"
      },
      "source": [
        "# Задание"
      ]
    },
    {
      "cell_type": "code",
      "source": [
        "from google.colab import drive\n",
        "drive.mount('/content/drive')"
      ],
      "metadata": {
        "colab": {
          "base_uri": "https://localhost:8080/"
        },
        "id": "a003sd1wK3hl",
        "outputId": "40a894b6-1a66-43c3-f766-430c4909ebeb"
      },
      "execution_count": 1,
      "outputs": [
        {
          "output_type": "stream",
          "name": "stdout",
          "text": [
            "Drive already mounted at /content/drive; to attempt to forcibly remount, call drive.mount(\"/content/drive\", force_remount=True).\n"
          ]
        }
      ]
    },
    {
      "cell_type": "code",
      "execution_count": 2,
      "metadata": {
        "id": "rImQAe0B7_dY"
      },
      "outputs": [],
      "source": [
        "import zipfile\n",
        "\n",
        "import pandas as pd"
      ]
    },
    {
      "cell_type": "code",
      "source": [
        "# # раскомментировать в случае запуска в jupyter notebook:\n",
        "\n",
        "# with zipfile.ZipFile('../datasets/client_info.csv.zip', 'r') as zip_ref:\n",
        "#     zip_ref.extractall('../datasets')"
      ],
      "metadata": {
        "id": "BceJhlucQid4"
      },
      "execution_count": 3,
      "outputs": []
    },
    {
      "cell_type": "code",
      "execution_count": 4,
      "metadata": {
        "id": "p6NBVFji7_db"
      },
      "outputs": [],
      "source": [
        "with zipfile.ZipFile('/content/drive/MyDrive/client_info.csv.zip', 'r') as zip_ref:\n",
        "    zip_ref.extractall('../datasets')"
      ]
    },
    {
      "cell_type": "code",
      "execution_count": 5,
      "metadata": {
        "id": "dxhM1MLjPc31"
      },
      "outputs": [],
      "source": [
        "df = pd.read_csv('../datasets/client_info.csv')"
      ]
    },
    {
      "cell_type": "code",
      "execution_count": 6,
      "metadata": {
        "colab": {
          "base_uri": "https://localhost:8080/",
          "height": 299
        },
        "id": "64OwQPrS7_dd",
        "outputId": "4e79d225-f1cc-4c44-a9b2-56fd7955718e"
      },
      "outputs": [
        {
          "output_type": "execute_result",
          "data": {
            "text/plain": [
              "       ID  CR_PROD_CNT_IL  AMOUNT_RUB_CLO_PRC APP_REGISTR_RGN_CODE  \\\n",
              "0  146841               0            0.000000           неизвестна   \n",
              "1  146842               0            0.041033           неизвестна   \n",
              "2  146843               0            0.006915           неизвестна   \n",
              "3  146844               0            0.000000           неизвестна   \n",
              "4  146845               0            0.000000           неизвестна   \n",
              "\n",
              "   TURNOVER_DYNAMIC_IL_1M LDEAL_YQZ_COM_GROUP LDEAL_YQZ_CHRG_GROUP  \\\n",
              "0                     0.0          неизвестна           неизвестна   \n",
              "1                     0.0          неизвестна           неизвестна   \n",
              "2                     0.0          неизвестна           неизвестна   \n",
              "3                     0.0          неизвестна           неизвестна   \n",
              "4                     0.0          неизвестна           неизвестна   \n",
              "\n",
              "  AVG_PCT_MONTH_TO_PCLOSE_GROUP MAX_PCLOSE_DATE_GROUP  \\\n",
              "0                    неизвестна            неизвестна   \n",
              "1                    неизвестна            неизвестна   \n",
              "2                    неизвестна            неизвестна   \n",
              "3                    неизвестна            неизвестна   \n",
              "4                    неизвестна            неизвестна   \n",
              "\n",
              "  AVG_PCT_DEBT_TO_DEAL_AMT_GROUP  ... CLNT_SETUP_TENOR  \\\n",
              "0                     неизвестна  ...         1.593023   \n",
              "1                     неизвестна  ...         1.587647   \n",
              "2                     неизвестна  ...         1.587647   \n",
              "3                     неизвестна  ...         1.583333   \n",
              "4                     неизвестна  ...         1.583333   \n",
              "\n",
              "  TURNOVER_DYNAMIC_PAYM_3M TURNOVER_DYNAMIC_PAYM_1M TRANS_AMOUNT_TENDENCY3M  \\\n",
              "0                      0.0                      0.0                0.483032   \n",
              "1                      0.0                      0.0                0.394340   \n",
              "2                      0.0                      0.0                0.399342   \n",
              "3                      0.0                      0.0                0.552169   \n",
              "4                      0.0                      0.0                0.611610   \n",
              "\n",
              "  TRANS_CNT_TENDENCY3M REST_DYNAMIC_CC_1M TURNOVER_DYNAMIC_CC_1M  \\\n",
              "0             0.406780                0.0                    0.0   \n",
              "1             0.545455                0.0                    0.0   \n",
              "2             0.297297                0.0                    0.0   \n",
              "3             0.558824                0.0                    0.0   \n",
              "4             0.620690                0.0                    0.0   \n",
              "\n",
              "  REST_DYNAMIC_CC_3M TURNOVER_DYNAMIC_CC_3M TARGET  \n",
              "0                0.0                    0.0      0  \n",
              "1                0.0                    0.0      0  \n",
              "2                0.0                    0.0      0  \n",
              "3                0.0                    0.0      0  \n",
              "4                0.0                    0.0      0  \n",
              "\n",
              "[5 rows x 105 columns]"
            ],
            "text/html": [
              "\n",
              "  <div id=\"df-6e93b75c-2497-474e-be1c-735658c8fc6a\">\n",
              "    <div class=\"colab-df-container\">\n",
              "      <div>\n",
              "<style scoped>\n",
              "    .dataframe tbody tr th:only-of-type {\n",
              "        vertical-align: middle;\n",
              "    }\n",
              "\n",
              "    .dataframe tbody tr th {\n",
              "        vertical-align: top;\n",
              "    }\n",
              "\n",
              "    .dataframe thead th {\n",
              "        text-align: right;\n",
              "    }\n",
              "</style>\n",
              "<table border=\"1\" class=\"dataframe\">\n",
              "  <thead>\n",
              "    <tr style=\"text-align: right;\">\n",
              "      <th></th>\n",
              "      <th>ID</th>\n",
              "      <th>CR_PROD_CNT_IL</th>\n",
              "      <th>AMOUNT_RUB_CLO_PRC</th>\n",
              "      <th>APP_REGISTR_RGN_CODE</th>\n",
              "      <th>TURNOVER_DYNAMIC_IL_1M</th>\n",
              "      <th>LDEAL_YQZ_COM_GROUP</th>\n",
              "      <th>LDEAL_YQZ_CHRG_GROUP</th>\n",
              "      <th>AVG_PCT_MONTH_TO_PCLOSE_GROUP</th>\n",
              "      <th>MAX_PCLOSE_DATE_GROUP</th>\n",
              "      <th>AVG_PCT_DEBT_TO_DEAL_AMT_GROUP</th>\n",
              "      <th>...</th>\n",
              "      <th>CLNT_SETUP_TENOR</th>\n",
              "      <th>TURNOVER_DYNAMIC_PAYM_3M</th>\n",
              "      <th>TURNOVER_DYNAMIC_PAYM_1M</th>\n",
              "      <th>TRANS_AMOUNT_TENDENCY3M</th>\n",
              "      <th>TRANS_CNT_TENDENCY3M</th>\n",
              "      <th>REST_DYNAMIC_CC_1M</th>\n",
              "      <th>TURNOVER_DYNAMIC_CC_1M</th>\n",
              "      <th>REST_DYNAMIC_CC_3M</th>\n",
              "      <th>TURNOVER_DYNAMIC_CC_3M</th>\n",
              "      <th>TARGET</th>\n",
              "    </tr>\n",
              "  </thead>\n",
              "  <tbody>\n",
              "    <tr>\n",
              "      <th>0</th>\n",
              "      <td>146841</td>\n",
              "      <td>0</td>\n",
              "      <td>0.000000</td>\n",
              "      <td>неизвестна</td>\n",
              "      <td>0.0</td>\n",
              "      <td>неизвестна</td>\n",
              "      <td>неизвестна</td>\n",
              "      <td>неизвестна</td>\n",
              "      <td>неизвестна</td>\n",
              "      <td>неизвестна</td>\n",
              "      <td>...</td>\n",
              "      <td>1.593023</td>\n",
              "      <td>0.0</td>\n",
              "      <td>0.0</td>\n",
              "      <td>0.483032</td>\n",
              "      <td>0.406780</td>\n",
              "      <td>0.0</td>\n",
              "      <td>0.0</td>\n",
              "      <td>0.0</td>\n",
              "      <td>0.0</td>\n",
              "      <td>0</td>\n",
              "    </tr>\n",
              "    <tr>\n",
              "      <th>1</th>\n",
              "      <td>146842</td>\n",
              "      <td>0</td>\n",
              "      <td>0.041033</td>\n",
              "      <td>неизвестна</td>\n",
              "      <td>0.0</td>\n",
              "      <td>неизвестна</td>\n",
              "      <td>неизвестна</td>\n",
              "      <td>неизвестна</td>\n",
              "      <td>неизвестна</td>\n",
              "      <td>неизвестна</td>\n",
              "      <td>...</td>\n",
              "      <td>1.587647</td>\n",
              "      <td>0.0</td>\n",
              "      <td>0.0</td>\n",
              "      <td>0.394340</td>\n",
              "      <td>0.545455</td>\n",
              "      <td>0.0</td>\n",
              "      <td>0.0</td>\n",
              "      <td>0.0</td>\n",
              "      <td>0.0</td>\n",
              "      <td>0</td>\n",
              "    </tr>\n",
              "    <tr>\n",
              "      <th>2</th>\n",
              "      <td>146843</td>\n",
              "      <td>0</td>\n",
              "      <td>0.006915</td>\n",
              "      <td>неизвестна</td>\n",
              "      <td>0.0</td>\n",
              "      <td>неизвестна</td>\n",
              "      <td>неизвестна</td>\n",
              "      <td>неизвестна</td>\n",
              "      <td>неизвестна</td>\n",
              "      <td>неизвестна</td>\n",
              "      <td>...</td>\n",
              "      <td>1.587647</td>\n",
              "      <td>0.0</td>\n",
              "      <td>0.0</td>\n",
              "      <td>0.399342</td>\n",
              "      <td>0.297297</td>\n",
              "      <td>0.0</td>\n",
              "      <td>0.0</td>\n",
              "      <td>0.0</td>\n",
              "      <td>0.0</td>\n",
              "      <td>0</td>\n",
              "    </tr>\n",
              "    <tr>\n",
              "      <th>3</th>\n",
              "      <td>146844</td>\n",
              "      <td>0</td>\n",
              "      <td>0.000000</td>\n",
              "      <td>неизвестна</td>\n",
              "      <td>0.0</td>\n",
              "      <td>неизвестна</td>\n",
              "      <td>неизвестна</td>\n",
              "      <td>неизвестна</td>\n",
              "      <td>неизвестна</td>\n",
              "      <td>неизвестна</td>\n",
              "      <td>...</td>\n",
              "      <td>1.583333</td>\n",
              "      <td>0.0</td>\n",
              "      <td>0.0</td>\n",
              "      <td>0.552169</td>\n",
              "      <td>0.558824</td>\n",
              "      <td>0.0</td>\n",
              "      <td>0.0</td>\n",
              "      <td>0.0</td>\n",
              "      <td>0.0</td>\n",
              "      <td>0</td>\n",
              "    </tr>\n",
              "    <tr>\n",
              "      <th>4</th>\n",
              "      <td>146845</td>\n",
              "      <td>0</td>\n",
              "      <td>0.000000</td>\n",
              "      <td>неизвестна</td>\n",
              "      <td>0.0</td>\n",
              "      <td>неизвестна</td>\n",
              "      <td>неизвестна</td>\n",
              "      <td>неизвестна</td>\n",
              "      <td>неизвестна</td>\n",
              "      <td>неизвестна</td>\n",
              "      <td>...</td>\n",
              "      <td>1.583333</td>\n",
              "      <td>0.0</td>\n",
              "      <td>0.0</td>\n",
              "      <td>0.611610</td>\n",
              "      <td>0.620690</td>\n",
              "      <td>0.0</td>\n",
              "      <td>0.0</td>\n",
              "      <td>0.0</td>\n",
              "      <td>0.0</td>\n",
              "      <td>0</td>\n",
              "    </tr>\n",
              "  </tbody>\n",
              "</table>\n",
              "<p>5 rows × 105 columns</p>\n",
              "</div>\n",
              "      <button class=\"colab-df-convert\" onclick=\"convertToInteractive('df-6e93b75c-2497-474e-be1c-735658c8fc6a')\"\n",
              "              title=\"Convert this dataframe to an interactive table.\"\n",
              "              style=\"display:none;\">\n",
              "        \n",
              "  <svg xmlns=\"http://www.w3.org/2000/svg\" height=\"24px\"viewBox=\"0 0 24 24\"\n",
              "       width=\"24px\">\n",
              "    <path d=\"M0 0h24v24H0V0z\" fill=\"none\"/>\n",
              "    <path d=\"M18.56 5.44l.94 2.06.94-2.06 2.06-.94-2.06-.94-.94-2.06-.94 2.06-2.06.94zm-11 1L8.5 8.5l.94-2.06 2.06-.94-2.06-.94L8.5 2.5l-.94 2.06-2.06.94zm10 10l.94 2.06.94-2.06 2.06-.94-2.06-.94-.94-2.06-.94 2.06-2.06.94z\"/><path d=\"M17.41 7.96l-1.37-1.37c-.4-.4-.92-.59-1.43-.59-.52 0-1.04.2-1.43.59L10.3 9.45l-7.72 7.72c-.78.78-.78 2.05 0 2.83L4 21.41c.39.39.9.59 1.41.59.51 0 1.02-.2 1.41-.59l7.78-7.78 2.81-2.81c.8-.78.8-2.07 0-2.86zM5.41 20L4 18.59l7.72-7.72 1.47 1.35L5.41 20z\"/>\n",
              "  </svg>\n",
              "      </button>\n",
              "      \n",
              "  <style>\n",
              "    .colab-df-container {\n",
              "      display:flex;\n",
              "      flex-wrap:wrap;\n",
              "      gap: 12px;\n",
              "    }\n",
              "\n",
              "    .colab-df-convert {\n",
              "      background-color: #E8F0FE;\n",
              "      border: none;\n",
              "      border-radius: 50%;\n",
              "      cursor: pointer;\n",
              "      display: none;\n",
              "      fill: #1967D2;\n",
              "      height: 32px;\n",
              "      padding: 0 0 0 0;\n",
              "      width: 32px;\n",
              "    }\n",
              "\n",
              "    .colab-df-convert:hover {\n",
              "      background-color: #E2EBFA;\n",
              "      box-shadow: 0px 1px 2px rgba(60, 64, 67, 0.3), 0px 1px 3px 1px rgba(60, 64, 67, 0.15);\n",
              "      fill: #174EA6;\n",
              "    }\n",
              "\n",
              "    [theme=dark] .colab-df-convert {\n",
              "      background-color: #3B4455;\n",
              "      fill: #D2E3FC;\n",
              "    }\n",
              "\n",
              "    [theme=dark] .colab-df-convert:hover {\n",
              "      background-color: #434B5C;\n",
              "      box-shadow: 0px 1px 3px 1px rgba(0, 0, 0, 0.15);\n",
              "      filter: drop-shadow(0px 1px 2px rgba(0, 0, 0, 0.3));\n",
              "      fill: #FFFFFF;\n",
              "    }\n",
              "  </style>\n",
              "\n",
              "      <script>\n",
              "        const buttonEl =\n",
              "          document.querySelector('#df-6e93b75c-2497-474e-be1c-735658c8fc6a button.colab-df-convert');\n",
              "        buttonEl.style.display =\n",
              "          google.colab.kernel.accessAllowed ? 'block' : 'none';\n",
              "\n",
              "        async function convertToInteractive(key) {\n",
              "          const element = document.querySelector('#df-6e93b75c-2497-474e-be1c-735658c8fc6a');\n",
              "          const dataTable =\n",
              "            await google.colab.kernel.invokeFunction('convertToInteractive',\n",
              "                                                     [key], {});\n",
              "          if (!dataTable) return;\n",
              "\n",
              "          const docLinkHtml = 'Like what you see? Visit the ' +\n",
              "            '<a target=\"_blank\" href=https://colab.research.google.com/notebooks/data_table.ipynb>data table notebook</a>'\n",
              "            + ' to learn more about interactive tables.';\n",
              "          element.innerHTML = '';\n",
              "          dataTable['output_type'] = 'display_data';\n",
              "          await google.colab.output.renderOutput(dataTable, element);\n",
              "          const docLink = document.createElement('div');\n",
              "          docLink.innerHTML = docLinkHtml;\n",
              "          element.appendChild(docLink);\n",
              "        }\n",
              "      </script>\n",
              "    </div>\n",
              "  </div>\n",
              "  "
            ]
          },
          "metadata": {},
          "execution_count": 6
        }
      ],
      "source": [
        "df.head(5)"
      ]
    },
    {
      "cell_type": "markdown",
      "metadata": {
        "id": "88e9QFlX7_de"
      },
      "source": [
        "## Задание 1\n",
        "Назначь колонку `ID` индексом таблицы."
      ]
    },
    {
      "cell_type": "code",
      "execution_count": 7,
      "metadata": {
        "colab": {
          "base_uri": "https://localhost:8080/",
          "height": 331
        },
        "id": "PH7T_PvD7_df",
        "outputId": "44ae2554-ca4d-4c0f-b691-26a00f28ec60"
      },
      "outputs": [
        {
          "output_type": "execute_result",
          "data": {
            "text/plain": [
              "        CR_PROD_CNT_IL  AMOUNT_RUB_CLO_PRC APP_REGISTR_RGN_CODE  \\\n",
              "ID                                                                \n",
              "146841               0            0.000000           неизвестна   \n",
              "146842               0            0.041033           неизвестна   \n",
              "146843               0            0.006915           неизвестна   \n",
              "146844               0            0.000000           неизвестна   \n",
              "146845               0            0.000000           неизвестна   \n",
              "\n",
              "        TURNOVER_DYNAMIC_IL_1M LDEAL_YQZ_COM_GROUP LDEAL_YQZ_CHRG_GROUP  \\\n",
              "ID                                                                        \n",
              "146841                     0.0          неизвестна           неизвестна   \n",
              "146842                     0.0          неизвестна           неизвестна   \n",
              "146843                     0.0          неизвестна           неизвестна   \n",
              "146844                     0.0          неизвестна           неизвестна   \n",
              "146845                     0.0          неизвестна           неизвестна   \n",
              "\n",
              "       AVG_PCT_MONTH_TO_PCLOSE_GROUP MAX_PCLOSE_DATE_GROUP  \\\n",
              "ID                                                           \n",
              "146841                    неизвестна            неизвестна   \n",
              "146842                    неизвестна            неизвестна   \n",
              "146843                    неизвестна            неизвестна   \n",
              "146844                    неизвестна            неизвестна   \n",
              "146845                    неизвестна            неизвестна   \n",
              "\n",
              "       AVG_PCT_DEBT_TO_DEAL_AMT_GROUP LDEAL_AMT_MONTH_GROUP  ...  \\\n",
              "ID                                                           ...   \n",
              "146841                     неизвестна            неизвестна  ...   \n",
              "146842                     неизвестна            неизвестна  ...   \n",
              "146843                     неизвестна            неизвестна  ...   \n",
              "146844                     неизвестна            неизвестна  ...   \n",
              "146845                     неизвестна            неизвестна  ...   \n",
              "\n",
              "       CLNT_SETUP_TENOR TURNOVER_DYNAMIC_PAYM_3M TURNOVER_DYNAMIC_PAYM_1M  \\\n",
              "ID                                                                          \n",
              "146841         1.593023                      0.0                      0.0   \n",
              "146842         1.587647                      0.0                      0.0   \n",
              "146843         1.587647                      0.0                      0.0   \n",
              "146844         1.583333                      0.0                      0.0   \n",
              "146845         1.583333                      0.0                      0.0   \n",
              "\n",
              "       TRANS_AMOUNT_TENDENCY3M TRANS_CNT_TENDENCY3M REST_DYNAMIC_CC_1M  \\\n",
              "ID                                                                       \n",
              "146841                0.483032             0.406780                0.0   \n",
              "146842                0.394340             0.545455                0.0   \n",
              "146843                0.399342             0.297297                0.0   \n",
              "146844                0.552169             0.558824                0.0   \n",
              "146845                0.611610             0.620690                0.0   \n",
              "\n",
              "       TURNOVER_DYNAMIC_CC_1M REST_DYNAMIC_CC_3M TURNOVER_DYNAMIC_CC_3M TARGET  \n",
              "ID                                                                              \n",
              "146841                    0.0                0.0                    0.0      0  \n",
              "146842                    0.0                0.0                    0.0      0  \n",
              "146843                    0.0                0.0                    0.0      0  \n",
              "146844                    0.0                0.0                    0.0      0  \n",
              "146845                    0.0                0.0                    0.0      0  \n",
              "\n",
              "[5 rows x 104 columns]"
            ],
            "text/html": [
              "\n",
              "  <div id=\"df-ab3c6640-67ec-4ad5-99c2-b0349cba7a52\">\n",
              "    <div class=\"colab-df-container\">\n",
              "      <div>\n",
              "<style scoped>\n",
              "    .dataframe tbody tr th:only-of-type {\n",
              "        vertical-align: middle;\n",
              "    }\n",
              "\n",
              "    .dataframe tbody tr th {\n",
              "        vertical-align: top;\n",
              "    }\n",
              "\n",
              "    .dataframe thead th {\n",
              "        text-align: right;\n",
              "    }\n",
              "</style>\n",
              "<table border=\"1\" class=\"dataframe\">\n",
              "  <thead>\n",
              "    <tr style=\"text-align: right;\">\n",
              "      <th></th>\n",
              "      <th>CR_PROD_CNT_IL</th>\n",
              "      <th>AMOUNT_RUB_CLO_PRC</th>\n",
              "      <th>APP_REGISTR_RGN_CODE</th>\n",
              "      <th>TURNOVER_DYNAMIC_IL_1M</th>\n",
              "      <th>LDEAL_YQZ_COM_GROUP</th>\n",
              "      <th>LDEAL_YQZ_CHRG_GROUP</th>\n",
              "      <th>AVG_PCT_MONTH_TO_PCLOSE_GROUP</th>\n",
              "      <th>MAX_PCLOSE_DATE_GROUP</th>\n",
              "      <th>AVG_PCT_DEBT_TO_DEAL_AMT_GROUP</th>\n",
              "      <th>LDEAL_AMT_MONTH_GROUP</th>\n",
              "      <th>...</th>\n",
              "      <th>CLNT_SETUP_TENOR</th>\n",
              "      <th>TURNOVER_DYNAMIC_PAYM_3M</th>\n",
              "      <th>TURNOVER_DYNAMIC_PAYM_1M</th>\n",
              "      <th>TRANS_AMOUNT_TENDENCY3M</th>\n",
              "      <th>TRANS_CNT_TENDENCY3M</th>\n",
              "      <th>REST_DYNAMIC_CC_1M</th>\n",
              "      <th>TURNOVER_DYNAMIC_CC_1M</th>\n",
              "      <th>REST_DYNAMIC_CC_3M</th>\n",
              "      <th>TURNOVER_DYNAMIC_CC_3M</th>\n",
              "      <th>TARGET</th>\n",
              "    </tr>\n",
              "    <tr>\n",
              "      <th>ID</th>\n",
              "      <th></th>\n",
              "      <th></th>\n",
              "      <th></th>\n",
              "      <th></th>\n",
              "      <th></th>\n",
              "      <th></th>\n",
              "      <th></th>\n",
              "      <th></th>\n",
              "      <th></th>\n",
              "      <th></th>\n",
              "      <th></th>\n",
              "      <th></th>\n",
              "      <th></th>\n",
              "      <th></th>\n",
              "      <th></th>\n",
              "      <th></th>\n",
              "      <th></th>\n",
              "      <th></th>\n",
              "      <th></th>\n",
              "      <th></th>\n",
              "      <th></th>\n",
              "    </tr>\n",
              "  </thead>\n",
              "  <tbody>\n",
              "    <tr>\n",
              "      <th>146841</th>\n",
              "      <td>0</td>\n",
              "      <td>0.000000</td>\n",
              "      <td>неизвестна</td>\n",
              "      <td>0.0</td>\n",
              "      <td>неизвестна</td>\n",
              "      <td>неизвестна</td>\n",
              "      <td>неизвестна</td>\n",
              "      <td>неизвестна</td>\n",
              "      <td>неизвестна</td>\n",
              "      <td>неизвестна</td>\n",
              "      <td>...</td>\n",
              "      <td>1.593023</td>\n",
              "      <td>0.0</td>\n",
              "      <td>0.0</td>\n",
              "      <td>0.483032</td>\n",
              "      <td>0.406780</td>\n",
              "      <td>0.0</td>\n",
              "      <td>0.0</td>\n",
              "      <td>0.0</td>\n",
              "      <td>0.0</td>\n",
              "      <td>0</td>\n",
              "    </tr>\n",
              "    <tr>\n",
              "      <th>146842</th>\n",
              "      <td>0</td>\n",
              "      <td>0.041033</td>\n",
              "      <td>неизвестна</td>\n",
              "      <td>0.0</td>\n",
              "      <td>неизвестна</td>\n",
              "      <td>неизвестна</td>\n",
              "      <td>неизвестна</td>\n",
              "      <td>неизвестна</td>\n",
              "      <td>неизвестна</td>\n",
              "      <td>неизвестна</td>\n",
              "      <td>...</td>\n",
              "      <td>1.587647</td>\n",
              "      <td>0.0</td>\n",
              "      <td>0.0</td>\n",
              "      <td>0.394340</td>\n",
              "      <td>0.545455</td>\n",
              "      <td>0.0</td>\n",
              "      <td>0.0</td>\n",
              "      <td>0.0</td>\n",
              "      <td>0.0</td>\n",
              "      <td>0</td>\n",
              "    </tr>\n",
              "    <tr>\n",
              "      <th>146843</th>\n",
              "      <td>0</td>\n",
              "      <td>0.006915</td>\n",
              "      <td>неизвестна</td>\n",
              "      <td>0.0</td>\n",
              "      <td>неизвестна</td>\n",
              "      <td>неизвестна</td>\n",
              "      <td>неизвестна</td>\n",
              "      <td>неизвестна</td>\n",
              "      <td>неизвестна</td>\n",
              "      <td>неизвестна</td>\n",
              "      <td>...</td>\n",
              "      <td>1.587647</td>\n",
              "      <td>0.0</td>\n",
              "      <td>0.0</td>\n",
              "      <td>0.399342</td>\n",
              "      <td>0.297297</td>\n",
              "      <td>0.0</td>\n",
              "      <td>0.0</td>\n",
              "      <td>0.0</td>\n",
              "      <td>0.0</td>\n",
              "      <td>0</td>\n",
              "    </tr>\n",
              "    <tr>\n",
              "      <th>146844</th>\n",
              "      <td>0</td>\n",
              "      <td>0.000000</td>\n",
              "      <td>неизвестна</td>\n",
              "      <td>0.0</td>\n",
              "      <td>неизвестна</td>\n",
              "      <td>неизвестна</td>\n",
              "      <td>неизвестна</td>\n",
              "      <td>неизвестна</td>\n",
              "      <td>неизвестна</td>\n",
              "      <td>неизвестна</td>\n",
              "      <td>...</td>\n",
              "      <td>1.583333</td>\n",
              "      <td>0.0</td>\n",
              "      <td>0.0</td>\n",
              "      <td>0.552169</td>\n",
              "      <td>0.558824</td>\n",
              "      <td>0.0</td>\n",
              "      <td>0.0</td>\n",
              "      <td>0.0</td>\n",
              "      <td>0.0</td>\n",
              "      <td>0</td>\n",
              "    </tr>\n",
              "    <tr>\n",
              "      <th>146845</th>\n",
              "      <td>0</td>\n",
              "      <td>0.000000</td>\n",
              "      <td>неизвестна</td>\n",
              "      <td>0.0</td>\n",
              "      <td>неизвестна</td>\n",
              "      <td>неизвестна</td>\n",
              "      <td>неизвестна</td>\n",
              "      <td>неизвестна</td>\n",
              "      <td>неизвестна</td>\n",
              "      <td>неизвестна</td>\n",
              "      <td>...</td>\n",
              "      <td>1.583333</td>\n",
              "      <td>0.0</td>\n",
              "      <td>0.0</td>\n",
              "      <td>0.611610</td>\n",
              "      <td>0.620690</td>\n",
              "      <td>0.0</td>\n",
              "      <td>0.0</td>\n",
              "      <td>0.0</td>\n",
              "      <td>0.0</td>\n",
              "      <td>0</td>\n",
              "    </tr>\n",
              "  </tbody>\n",
              "</table>\n",
              "<p>5 rows × 104 columns</p>\n",
              "</div>\n",
              "      <button class=\"colab-df-convert\" onclick=\"convertToInteractive('df-ab3c6640-67ec-4ad5-99c2-b0349cba7a52')\"\n",
              "              title=\"Convert this dataframe to an interactive table.\"\n",
              "              style=\"display:none;\">\n",
              "        \n",
              "  <svg xmlns=\"http://www.w3.org/2000/svg\" height=\"24px\"viewBox=\"0 0 24 24\"\n",
              "       width=\"24px\">\n",
              "    <path d=\"M0 0h24v24H0V0z\" fill=\"none\"/>\n",
              "    <path d=\"M18.56 5.44l.94 2.06.94-2.06 2.06-.94-2.06-.94-.94-2.06-.94 2.06-2.06.94zm-11 1L8.5 8.5l.94-2.06 2.06-.94-2.06-.94L8.5 2.5l-.94 2.06-2.06.94zm10 10l.94 2.06.94-2.06 2.06-.94-2.06-.94-.94-2.06-.94 2.06-2.06.94z\"/><path d=\"M17.41 7.96l-1.37-1.37c-.4-.4-.92-.59-1.43-.59-.52 0-1.04.2-1.43.59L10.3 9.45l-7.72 7.72c-.78.78-.78 2.05 0 2.83L4 21.41c.39.39.9.59 1.41.59.51 0 1.02-.2 1.41-.59l7.78-7.78 2.81-2.81c.8-.78.8-2.07 0-2.86zM5.41 20L4 18.59l7.72-7.72 1.47 1.35L5.41 20z\"/>\n",
              "  </svg>\n",
              "      </button>\n",
              "      \n",
              "  <style>\n",
              "    .colab-df-container {\n",
              "      display:flex;\n",
              "      flex-wrap:wrap;\n",
              "      gap: 12px;\n",
              "    }\n",
              "\n",
              "    .colab-df-convert {\n",
              "      background-color: #E8F0FE;\n",
              "      border: none;\n",
              "      border-radius: 50%;\n",
              "      cursor: pointer;\n",
              "      display: none;\n",
              "      fill: #1967D2;\n",
              "      height: 32px;\n",
              "      padding: 0 0 0 0;\n",
              "      width: 32px;\n",
              "    }\n",
              "\n",
              "    .colab-df-convert:hover {\n",
              "      background-color: #E2EBFA;\n",
              "      box-shadow: 0px 1px 2px rgba(60, 64, 67, 0.3), 0px 1px 3px 1px rgba(60, 64, 67, 0.15);\n",
              "      fill: #174EA6;\n",
              "    }\n",
              "\n",
              "    [theme=dark] .colab-df-convert {\n",
              "      background-color: #3B4455;\n",
              "      fill: #D2E3FC;\n",
              "    }\n",
              "\n",
              "    [theme=dark] .colab-df-convert:hover {\n",
              "      background-color: #434B5C;\n",
              "      box-shadow: 0px 1px 3px 1px rgba(0, 0, 0, 0.15);\n",
              "      filter: drop-shadow(0px 1px 2px rgba(0, 0, 0, 0.3));\n",
              "      fill: #FFFFFF;\n",
              "    }\n",
              "  </style>\n",
              "\n",
              "      <script>\n",
              "        const buttonEl =\n",
              "          document.querySelector('#df-ab3c6640-67ec-4ad5-99c2-b0349cba7a52 button.colab-df-convert');\n",
              "        buttonEl.style.display =\n",
              "          google.colab.kernel.accessAllowed ? 'block' : 'none';\n",
              "\n",
              "        async function convertToInteractive(key) {\n",
              "          const element = document.querySelector('#df-ab3c6640-67ec-4ad5-99c2-b0349cba7a52');\n",
              "          const dataTable =\n",
              "            await google.colab.kernel.invokeFunction('convertToInteractive',\n",
              "                                                     [key], {});\n",
              "          if (!dataTable) return;\n",
              "\n",
              "          const docLinkHtml = 'Like what you see? Visit the ' +\n",
              "            '<a target=\"_blank\" href=https://colab.research.google.com/notebooks/data_table.ipynb>data table notebook</a>'\n",
              "            + ' to learn more about interactive tables.';\n",
              "          element.innerHTML = '';\n",
              "          dataTable['output_type'] = 'display_data';\n",
              "          await google.colab.output.renderOutput(dataTable, element);\n",
              "          const docLink = document.createElement('div');\n",
              "          docLink.innerHTML = docLinkHtml;\n",
              "          element.appendChild(docLink);\n",
              "        }\n",
              "      </script>\n",
              "    </div>\n",
              "  </div>\n",
              "  "
            ]
          },
          "metadata": {},
          "execution_count": 7
        }
      ],
      "source": [
        "df = df.set_index('ID')\n",
        "\n",
        "df.head(5)"
      ]
    },
    {
      "cell_type": "markdown",
      "metadata": {
        "id": "72epntfY7_dg"
      },
      "source": [
        "## Задание 2\n",
        "Определимся, что является нашим `X`, а что является нашим `Y`. \n",
        "Для этого изучи документ, описывающий [датасет](../datasets/data_description.docs).\n",
        "Признаки сохрани в переменную `X`. А целевую переменную, которую мы будем предсказывать, в переменную `Y`\n",
        "Выведи размерность этих таблиц"
      ]
    },
    {
      "cell_type": "code",
      "execution_count": 8,
      "metadata": {
        "colab": {
          "base_uri": "https://localhost:8080/"
        },
        "id": "Cwl2xY1t7_dg",
        "outputId": "d215afeb-2301-4253-ba7e-5fb8b16f9fdc"
      },
      "outputs": [
        {
          "output_type": "execute_result",
          "data": {
            "text/plain": [
              "((355190, 103), (355190,))"
            ]
          },
          "metadata": {},
          "execution_count": 8
        }
      ],
      "source": [
        "X = df.drop('TARGET', axis=1)\n",
        "\n",
        "y = df['TARGET']\n",
        "\n",
        "X.shape, y.shape"
      ]
    },
    {
      "cell_type": "markdown",
      "metadata": {
        "id": "rx7Gcetk7_dh"
      },
      "source": [
        "## Задание 3\n",
        "Наши признаки содержат в себе как количественные, так и категориальные переменные. Разделим признаки. \n",
        "В этом поможет тип данных колонки. Категориальные переменные сохрани в переменную `X_cat`, а количественные в `X_num`. \n",
        "Выведи число категориальных и количественные переменных."
      ]
    },
    {
      "cell_type": "code",
      "execution_count": 9,
      "metadata": {
        "colab": {
          "base_uri": "https://localhost:8080/"
        },
        "id": "h3f2wb8O7_di",
        "outputId": "d8b56463-70da-4950-bfda-06b904776cf8"
      },
      "outputs": [
        {
          "output_type": "execute_result",
          "data": {
            "text/plain": [
              "(56, 47)"
            ]
          },
          "metadata": {},
          "execution_count": 9
        }
      ],
      "source": [
        "X_cat = X.select_dtypes(include=['object'])\n",
        "\n",
        "X_num = X.select_dtypes(include=['float', 'int'])\n",
        "\n",
        "X_cat.shape[1], X_num.shape[1]"
      ]
    },
    {
      "cell_type": "markdown",
      "metadata": {
        "id": "Wo98NnJj7_di"
      },
      "source": [
        "## Задание 4\n",
        "Предобработаем количественные переменные. Проведи стандартизацию для признаков X_num.\n",
        "Сохрани результат стандартизации в переменную `X_num_scal`. \n",
        "Выведи среднее и стандартное отклонение по датасету для каждого признака после стандартизации. \n",
        "Значения округли для сотых."
      ]
    },
    {
      "cell_type": "code",
      "execution_count": 10,
      "metadata": {
        "id": "Mgh8d88M7_dj"
      },
      "outputs": [],
      "source": [
        "from sklearn.preprocessing import StandardScaler\n",
        "\n",
        "scaler = StandardScaler()\n",
        "\n",
        "X_num_scal = pd.DataFrame(scaler.fit_transform(X_num), columns=X_num.columns)"
      ]
    },
    {
      "cell_type": "code",
      "execution_count": 11,
      "metadata": {
        "colab": {
          "base_uri": "https://localhost:8080/"
        },
        "id": "TI_zn_dV7_dj",
        "outputId": "2bf34dd1-372d-414f-8aa0-e44d6aeb285a"
      },
      "outputs": [
        {
          "output_type": "execute_result",
          "data": {
            "text/plain": [
              "CR_PROD_CNT_IL              0.0\n",
              "AMOUNT_RUB_CLO_PRC          0.0\n",
              "TURNOVER_DYNAMIC_IL_1M     -0.0\n",
              "AMOUNT_RUB_SUP_PRC          0.0\n",
              "REST_DYNAMIC_FDEP_1M        0.0\n",
              "REST_DYNAMIC_SAVE_3M       -0.0\n",
              "CR_PROD_CNT_VCU            -0.0\n",
              "REST_AVG_CUR               -0.0\n",
              "AMOUNT_RUB_NAS_PRC          0.0\n",
              "TRANS_COUNT_SUP_PRC        -0.0\n",
              "TRANS_COUNT_NAS_PRC         0.0\n",
              "CR_PROD_CNT_TOVR           -0.0\n",
              "CR_PROD_CNT_PIL            -0.0\n",
              "TURNOVER_CC                 0.0\n",
              "TRANS_COUNT_ATM_PRC         0.0\n",
              "AMOUNT_RUB_ATM_PRC          0.0\n",
              "TURNOVER_PAYM              -0.0\n",
              "AGE                         0.0\n",
              "CR_PROD_CNT_CC              0.0\n",
              "REST_DYNAMIC_FDEP_3M       -0.0\n",
              "REST_DYNAMIC_IL_1M          0.0\n",
              "CR_PROD_CNT_CCFP            0.0\n",
              "REST_DYNAMIC_CUR_1M        -0.0\n",
              "REST_AVG_PAYM              -0.0\n",
              "LDEAL_GRACE_DAYS_PCT_MED   -0.0\n",
              "REST_DYNAMIC_CUR_3M         0.0\n",
              "CNT_TRAN_SUP_TENDENCY3M     0.0\n",
              "TURNOVER_DYNAMIC_CUR_1M    -0.0\n",
              "REST_DYNAMIC_PAYM_3M        0.0\n",
              "SUM_TRAN_SUP_TENDENCY3M     0.0\n",
              "REST_DYNAMIC_IL_3M          0.0\n",
              "CNT_TRAN_ATM_TENDENCY3M     0.0\n",
              "CNT_TRAN_ATM_TENDENCY1M    -0.0\n",
              "TURNOVER_DYNAMIC_IL_3M     -0.0\n",
              "SUM_TRAN_ATM_TENDENCY3M    -0.0\n",
              "SUM_TRAN_ATM_TENDENCY1M    -0.0\n",
              "REST_DYNAMIC_PAYM_1M       -0.0\n",
              "TURNOVER_DYNAMIC_CUR_3M    -0.0\n",
              "CLNT_SETUP_TENOR           -0.0\n",
              "TURNOVER_DYNAMIC_PAYM_3M   -0.0\n",
              "TURNOVER_DYNAMIC_PAYM_1M   -0.0\n",
              "TRANS_AMOUNT_TENDENCY3M    -0.0\n",
              "TRANS_CNT_TENDENCY3M       -0.0\n",
              "REST_DYNAMIC_CC_1M         -0.0\n",
              "TURNOVER_DYNAMIC_CC_1M     -0.0\n",
              "REST_DYNAMIC_CC_3M          0.0\n",
              "TURNOVER_DYNAMIC_CC_3M      0.0\n",
              "Name: mean, dtype: float64"
            ]
          },
          "metadata": {},
          "execution_count": 11
        }
      ],
      "source": [
        "round(X_num_scal.describe().loc['mean'], 2)"
      ]
    },
    {
      "cell_type": "code",
      "execution_count": 12,
      "metadata": {
        "colab": {
          "base_uri": "https://localhost:8080/"
        },
        "id": "4fUcl5ow7_dk",
        "outputId": "a33955c6-5264-48fe-889c-e2fa5daf38ee"
      },
      "outputs": [
        {
          "output_type": "execute_result",
          "data": {
            "text/plain": [
              "CR_PROD_CNT_IL              1.0\n",
              "AMOUNT_RUB_CLO_PRC          1.0\n",
              "TURNOVER_DYNAMIC_IL_1M      1.0\n",
              "AMOUNT_RUB_SUP_PRC          1.0\n",
              "REST_DYNAMIC_FDEP_1M        1.0\n",
              "REST_DYNAMIC_SAVE_3M        1.0\n",
              "CR_PROD_CNT_VCU             1.0\n",
              "REST_AVG_CUR                1.0\n",
              "AMOUNT_RUB_NAS_PRC          1.0\n",
              "TRANS_COUNT_SUP_PRC         1.0\n",
              "TRANS_COUNT_NAS_PRC         1.0\n",
              "CR_PROD_CNT_TOVR            1.0\n",
              "CR_PROD_CNT_PIL             1.0\n",
              "TURNOVER_CC                 1.0\n",
              "TRANS_COUNT_ATM_PRC         1.0\n",
              "AMOUNT_RUB_ATM_PRC          1.0\n",
              "TURNOVER_PAYM               1.0\n",
              "AGE                         1.0\n",
              "CR_PROD_CNT_CC              1.0\n",
              "REST_DYNAMIC_FDEP_3M        1.0\n",
              "REST_DYNAMIC_IL_1M          1.0\n",
              "CR_PROD_CNT_CCFP            1.0\n",
              "REST_DYNAMIC_CUR_1M         1.0\n",
              "REST_AVG_PAYM               1.0\n",
              "LDEAL_GRACE_DAYS_PCT_MED    1.0\n",
              "REST_DYNAMIC_CUR_3M         1.0\n",
              "CNT_TRAN_SUP_TENDENCY3M     1.0\n",
              "TURNOVER_DYNAMIC_CUR_1M     1.0\n",
              "REST_DYNAMIC_PAYM_3M        1.0\n",
              "SUM_TRAN_SUP_TENDENCY3M     1.0\n",
              "REST_DYNAMIC_IL_3M          1.0\n",
              "CNT_TRAN_ATM_TENDENCY3M     1.0\n",
              "CNT_TRAN_ATM_TENDENCY1M     1.0\n",
              "TURNOVER_DYNAMIC_IL_3M      1.0\n",
              "SUM_TRAN_ATM_TENDENCY3M     1.0\n",
              "SUM_TRAN_ATM_TENDENCY1M     1.0\n",
              "REST_DYNAMIC_PAYM_1M        1.0\n",
              "TURNOVER_DYNAMIC_CUR_3M     1.0\n",
              "CLNT_SETUP_TENOR            1.0\n",
              "TURNOVER_DYNAMIC_PAYM_3M    1.0\n",
              "TURNOVER_DYNAMIC_PAYM_1M    1.0\n",
              "TRANS_AMOUNT_TENDENCY3M     1.0\n",
              "TRANS_CNT_TENDENCY3M        1.0\n",
              "REST_DYNAMIC_CC_1M          1.0\n",
              "TURNOVER_DYNAMIC_CC_1M      1.0\n",
              "REST_DYNAMIC_CC_3M          1.0\n",
              "TURNOVER_DYNAMIC_CC_3M      1.0\n",
              "Name: std, dtype: float64"
            ]
          },
          "metadata": {},
          "execution_count": 12
        }
      ],
      "source": [
        "round(pd.DataFrame(X_num_scal).describe().loc['std'], 2)"
      ]
    },
    {
      "cell_type": "markdown",
      "metadata": {
        "id": "s7ZWw1Z07_dk"
      },
      "source": [
        "## Задание 5\n",
        "Алгоритмы машинного обучения плохо работают с категориальными признаками, поэтому их надо трансформировать. \n",
        "Прочитай про One-Hot Encoding подход к кодированию и примени его с нашим категориальным признаком, сохрани \n",
        "результат в переменную `X_cat_ohe`\n",
        "Перед этим удали признак `CLNT_JOB_POSITION` (у него слишком много значений).\n",
        "Выведи количество колонок таблицы `X_cat_ohe`"
      ]
    },
    {
      "cell_type": "code",
      "execution_count": 13,
      "metadata": {
        "colab": {
          "base_uri": "https://localhost:8080/"
        },
        "id": "pe913JNi7_dl",
        "outputId": "2f8ec788-88d1-44a0-fff3-6c9d6cc0b29d"
      },
      "outputs": [
        {
          "output_type": "execute_result",
          "data": {
            "text/plain": [
              "323"
            ]
          },
          "metadata": {},
          "execution_count": 13
        }
      ],
      "source": [
        "X_cat = X_cat.drop('CLNT_JOB_POSITION', axis=1)\n",
        "\n",
        "from sklearn.preprocessing import OneHotEncoder\n",
        "\n",
        "ohe = OneHotEncoder()\n",
        "\n",
        "X_cat_ohe = pd.DataFrame(ohe.fit_transform(X_cat).toarray(), columns=ohe.get_feature_names_out())\n",
        "\n",
        "X_cat_ohe.shape[1]"
      ]
    },
    {
      "cell_type": "markdown",
      "metadata": {
        "id": "cs1PvTd-7_dl"
      },
      "source": [
        "## Задание 6\n",
        "Объедини 2 предобработанных датасета. Результат запиши в переменную `X_ready`. Сохрани датасет в папку `datasets/data_prepared.csv`\n",
        "Подели получившийся датасет на `train` и `test`. Процент тестовой выборки: `20%`. Использовать параметр `random_state=21`.\n",
        "Выведи размерность обучающей выборки X_train.\n"
      ]
    },
    {
      "cell_type": "code",
      "execution_count": 14,
      "metadata": {
        "colab": {
          "base_uri": "https://localhost:8080/"
        },
        "id": "bcU816HT7_dm",
        "outputId": "88451d98-d9f5-4ed1-c188-eced4a25afd5"
      },
      "outputs": [
        {
          "output_type": "execute_result",
          "data": {
            "text/plain": [
              "(284152, 370)"
            ]
          },
          "metadata": {},
          "execution_count": 14
        }
      ],
      "source": [
        "X_ready = pd.concat([X_num_scal, X_cat_ohe], axis=1)\n",
        "\n",
        "# X_ready.to_csv('../datasets/data_prepared.csv')\n",
        "\n",
        "from sklearn.model_selection import train_test_split\n",
        "\n",
        "X_train, X_test, y_train, y_test = train_test_split(X_ready, y, \n",
        "                                                    test_size=0.2, \n",
        "                                                    random_state=21)\n",
        "\n",
        "X_train.shape"
      ]
    },
    {
      "cell_type": "markdown",
      "metadata": {
        "id": "sjWWqfTs7_dm"
      },
      "source": [
        "## Задание 7 \n",
        "Обучи логистическую регрессию с параметрами: `solver='liblinear'`, `fit_intercept=False`, `penalty='l1'`, `random_state=21`. \n",
        "Посчитай `accuracy` модели на тестовой выборке, сравнив предсказанные значения с реальными.\n",
        "Выведи значение `accuracy` модели на тестовой выборке."
      ]
    },
    {
      "cell_type": "code",
      "execution_count": 15,
      "metadata": {
        "id": "ic8CW06x7_dn",
        "colab": {
          "base_uri": "https://localhost:8080/"
        },
        "outputId": "4de19f44-44ec-4cc6-aa38-8cd0e433f1b4"
      },
      "outputs": [
        {
          "output_type": "execute_result",
          "data": {
            "text/plain": [
              "0.9197612545398237"
            ]
          },
          "metadata": {},
          "execution_count": 15
        }
      ],
      "source": [
        "from sklearn.linear_model import LogisticRegression\n",
        "from sklearn.metrics import accuracy_score\n",
        "\n",
        "clf = LogisticRegression(solver='liblinear', fit_intercept=False, penalty='l1', random_state=21)\n",
        "\n",
        "model = clf.fit(X_train, y_train)\n",
        "\n",
        "y_pred = model.predict(X_test)\n",
        "\n",
        "accuracy_score(y_test, y_pred)"
      ]
    },
    {
      "cell_type": "markdown",
      "metadata": {
        "id": "2QuTXf_Z7_dn"
      },
      "source": [
        "## Задание 8\n",
        "Посчитай процент клиентов в тестовой выборке, у которых индикатор оттока равен `0`, и сравни с `accuracy`.\n",
        "Тебе что-то должно показаться подозрительным)"
      ]
    },
    {
      "cell_type": "code",
      "execution_count": 16,
      "metadata": {
        "id": "a4FpqAEl7_dn",
        "colab": {
          "base_uri": "https://localhost:8080/"
        },
        "outputId": "9477b78a-34ee-4458-d905-895c54bf60a0"
      },
      "outputs": [
        {
          "output_type": "execute_result",
          "data": {
            "text/plain": [
              "0.9196064078380585"
            ]
          },
          "metadata": {},
          "execution_count": 16
        }
      ],
      "source": [
        "y_test.value_counts(normalize=True).values[0]"
      ]
    },
    {
      "cell_type": "markdown",
      "source": [
        "0.9196064078380585 приблизительно равно 0.9197612545398237 - это кажется подозрительным) Думаю, дело в изначальном дисбалансе классов. "
      ],
      "metadata": {
        "id": "cJfUawqSIoQt"
      }
    },
    {
      "cell_type": "markdown",
      "metadata": {
        "id": "zVECKoy_7_do"
      },
      "source": [
        "## Задание 9\n",
        "Построй график, на котором видны топ-10 самых важных факторов по мнению модели в абсолютном значении."
      ]
    },
    {
      "cell_type": "code",
      "source": [
        "# приведение весов модели к абсолютным значениям: \n",
        "abs_coef = abs(model.coef_[0])\n",
        "\n",
        "# формирование словаря с ключами - именами факторов из X_ready, значениями - весами факторов: \n",
        "col_names = X_ready.columns.tolist()\n",
        "coefs = abs_coef.tolist()\n",
        "dict_names_coefs = {}\n",
        "for i in range(len(col_names)):\n",
        "    dict_names_coefs[col_names[i]] = coefs[i]\n",
        "\n",
        "# сортировка полученного словаря по убыванию весов: \n",
        "sorted_dict = dict(sorted(dict_names_coefs.items(), key=lambda item: item[1], reverse=True))\n",
        "\n",
        "# отбор топ-10 значений имя фактора - его вес: \n",
        "import itertools\n",
        "top_ten_features = dict(itertools.islice(sorted_dict.items(), 10))\n",
        "\n",
        "# формирование данных для осей диаграммы: \n",
        "names = list(top_ten_features.keys())\n",
        "names = list(map(str, names))\n",
        "weights = list(top_ten_features.values())\n",
        "\n",
        "# отрисовка диаграммы: \n",
        "import matplotlib.pyplot as plt\n",
        "import seaborn as sns\n",
        "\n",
        "sns.barplot(x=weights,\n",
        "            y=names,\n",
        "            palette='colorblind')\n",
        "\n",
        "plt.title('Топ-10 самых важных факторов')\n",
        "plt.xlabel('Вес фактора')\n",
        "plt.ylabel('Фактор')\n",
        "\n",
        "plt.show()"
      ],
      "metadata": {
        "colab": {
          "base_uri": "https://localhost:8080/",
          "height": 472
        },
        "id": "XfOSueaE-9Ij",
        "outputId": "73bf7457-84a5-4124-d809-77f2aad905a6"
      },
      "execution_count": 17,
      "outputs": [
        {
          "output_type": "display_data",
          "data": {
            "text/plain": [
              "<Figure size 640x480 with 1 Axes>"
            ],
            "image/png": "[encoded data removed]"
          },
          "metadata": {}
        }
      ]
    },
    {
      "cell_type": "code",
      "execution_count": 19,
      "metadata": {
        "id": "rCHH9Fb97_do",
        "colab": {
          "base_uri": "https://localhost:8080/",
          "height": 445
        },
        "outputId": "ba617b75-cc18-493d-b5c6-52b9d9e370a9"
      },
      "outputs": [
        {
          "output_type": "display_data",
          "data": {
            "text/plain": [
              "<Figure size 1200x500 with 1 Axes>"
            ],
            "image/png": "[encoded data removed]"
          },
          "metadata": {}
        }
      ],
      "source": [
        "# построение диаграммы при помощи представленной в качестве образца функции: \n",
        "\n",
        "def f_importances(weights, names, top=-1):\n",
        "    weights, names = zip(*sorted(list(zip(weights, names))))\n",
        "\n",
        "    # Show all features\n",
        "    if top == -1:\n",
        "        top = len(names)\n",
        "    plt.figure(figsize=(12, 5))\n",
        "    plt.barh(range(top), weights[::-1][0:top], align='center')\n",
        "    plt.yticks(range(top), names[::-1][0:top])\n",
        "    plt.show()\n",
        "\n",
        "f_importances(weights, names, top=10)"
      ]
    }
  ],
  "metadata": {
    "colab": {
      "provenance": [],
      "gpuType": "T4"
    },
    "kernelspec": {
      "display_name": "Python 3 (ipykernel)",
      "language": "python",
      "name": "python3"
    },
    "language_info": {
      "codemirror_mode": {
        "name": "ipython",
        "version": 3
      },
      "file_extension": ".py",
      "mimetype": "text/x-python",
      "name": "python",
      "nbconvert_exporter": "python",
      "pygments_lexer": "ipython3",
      "version": "3.9.13"
    },
    "gpuClass": "standard"
  },
  "nbformat": 4,
  "nbformat_minor": 0
}