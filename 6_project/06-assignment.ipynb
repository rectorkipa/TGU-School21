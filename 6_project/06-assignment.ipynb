{
 "cells": [
  {
   "cell_type": "markdown",
   "id": "f59af801-5930-4a03-984c-f3a63d29a5ba",
   "metadata": {},
   "source": [
    "# Задание "
   ]
  },
  {
   "cell_type": "code",
   "execution_count": 1,
   "id": "de25621d-4eda-459b-a1da-2c21813eea1c",
   "metadata": {},
   "outputs": [],
   "source": [
    "import numpy as np\n",
    "import matplotlib.pyplot as plt"
   ]
  },
  {
   "cell_type": "markdown",
   "id": "35d995e1-34e1-450c-a88d-96104b2df726",
   "metadata": {},
   "source": [
    "## Task 1\n",
    "1. Установи библиотеку `sympy`.\n",
    "2. Используя ее функции, напиши свою функцию, которая \n",
    "на вход примет математическую функцию `y=f(x)` вида `x**2 - x + 21`, и вернёт производную: `2𝑥−1`."
   ]
  },
  {
   "cell_type": "code",
   "execution_count": 2,
   "id": "18986719-68b3-4295-885a-4dfc0d7c5021",
   "metadata": {},
   "outputs": [],
   "source": [
    "# !pip install sympy"
   ]
  },
  {
   "cell_type": "code",
   "execution_count": 3,
   "id": "142f5fbb",
   "metadata": {},
   "outputs": [],
   "source": [
    "import sympy\n",
    "from sympy import Symbol\n",
    "from sympy import *"
   ]
  },
  {
   "cell_type": "code",
   "execution_count": 4,
   "id": "f32e19ca",
   "metadata": {},
   "outputs": [],
   "source": [
    "x = symbols('x')\n",
    "\n",
    "def derivative_1(func):\n",
    "    return diff(func, x)"
   ]
  },
  {
   "cell_type": "code",
   "execution_count": 5,
   "id": "1d2e2c39",
   "metadata": {},
   "outputs": [],
   "source": [
    "y = x**2 - x + 21"
   ]
  },
  {
   "cell_type": "code",
   "execution_count": 6,
   "id": "4fa8b5d3",
   "metadata": {},
   "outputs": [
    {
     "data": {
      "text/latex": [
       "$\\displaystyle 2 x - 1$"
      ],
      "text/plain": [
       "2*x - 1"
      ]
     },
     "execution_count": 6,
     "metadata": {},
     "output_type": "execute_result"
    }
   ],
   "source": [
    "derivative_1(y)"
   ]
  },
  {
   "cell_type": "markdown",
   "id": "f0c49d13-79db-469a-be74-bd41777ef05a",
   "metadata": {
    "tags": []
   },
   "source": [
    "## Task 2\n",
    "1. Напиши функцию, которая на вход примет математическую функцию `p = f(x, y)`, \n",
    "зависящую от двух переменных вида `(x-y)**2`, а также ту переменную, по которой нужно посчитать частную производную.\n",
    "Функция должна вернуть частную производную по выбранной переменной."
   ]
  },
  {
   "cell_type": "code",
   "execution_count": 7,
   "id": "ad75021c-eff5-485d-b370-0815d0115b83",
   "metadata": {},
   "outputs": [],
   "source": [
    "x, y = symbols('x y')\n",
    "\n",
    "def derivative_2(func, var):\n",
    "    return diff(func, var, 1)"
   ]
  },
  {
   "cell_type": "code",
   "execution_count": 8,
   "id": "fb9c5bf2",
   "metadata": {},
   "outputs": [],
   "source": [
    "p = (x-y)**2"
   ]
  },
  {
   "cell_type": "code",
   "execution_count": 9,
   "id": "8d6a0f38",
   "metadata": {},
   "outputs": [
    {
     "data": {
      "text/latex": [
       "$\\displaystyle 2 x - 2 y$"
      ],
      "text/plain": [
       "2*x - 2*y"
      ]
     },
     "execution_count": 9,
     "metadata": {},
     "output_type": "execute_result"
    }
   ],
   "source": [
    "derivative_2(p, x)"
   ]
  },
  {
   "cell_type": "code",
   "execution_count": 10,
   "id": "987f22b0",
   "metadata": {},
   "outputs": [
    {
     "data": {
      "text/latex": [
       "$\\displaystyle - 2 x + 2 y$"
      ],
      "text/plain": [
       "-2*x + 2*y"
      ]
     },
     "execution_count": 10,
     "metadata": {},
     "output_type": "execute_result"
    }
   ],
   "source": [
    "derivative_2(p, y)"
   ]
  },
  {
   "cell_type": "markdown",
   "id": "30c90ce8-7a46-4803-809a-fd037adeea44",
   "metadata": {},
   "source": [
    "## Task 3"
   ]
  },
  {
   "cell_type": "markdown",
   "id": "aea0c68c-85e2-4ec0-b748-7f9b3096e6d8",
   "metadata": {},
   "source": [
    "Представь, что у нас есть истинное значений `y_true` и предсказанное значение `y_pred`, описанное линейнным уравнением вида `y_pred = w*x + b`\n",
    "1. Выведите формулу квадратного отклонения между истинным и предсказанным значениями. \n",
    "2. Вычислите частные производные полученной формулу квадратного отклонения по переменным `w` и `b`."
   ]
  },
  {
   "cell_type": "code",
   "execution_count": 11,
   "id": "f5ab9482-4e51-40fc-9a6b-e5ae4f163dc5",
   "metadata": {},
   "outputs": [
    {
     "data": {
      "text/latex": [
       "$\\displaystyle \\left(- b - w x + y_{true}\\right)^{2}$"
      ],
      "text/plain": [
       "(-b - w*x + y_true)**2"
      ]
     },
     "execution_count": 11,
     "metadata": {},
     "output_type": "execute_result"
    }
   ],
   "source": [
    "y_true, w, x, b = symbols('y_true w x b')\n",
    "sq_er = (y_true - (w*x + b))**2 \n",
    "sq_er"
   ]
  },
  {
   "cell_type": "code",
   "execution_count": 12,
   "id": "d9fbfec0",
   "metadata": {},
   "outputs": [
    {
     "data": {
      "text/latex": [
       "$\\displaystyle - 2 x \\left(- b - w x + y_{true}\\right)$"
      ],
      "text/plain": [
       "-2*x*(-b - w*x + y_true)"
      ]
     },
     "execution_count": 12,
     "metadata": {},
     "output_type": "execute_result"
    }
   ],
   "source": [
    "diff(sq_er, w)\n",
    "\n",
    "# -2 * x * (y_true - w * x - b)"
   ]
  },
  {
   "cell_type": "code",
   "execution_count": 13,
   "id": "16749ff4",
   "metadata": {},
   "outputs": [
    {
     "data": {
      "text/latex": [
       "$\\displaystyle 2 b + 2 w x - 2 y_{true}$"
      ],
      "text/plain": [
       "2*b + 2*w*x - 2*y_true"
      ]
     },
     "execution_count": 13,
     "metadata": {},
     "output_type": "execute_result"
    }
   ],
   "source": [
    "diff(sq_er, b)\n",
    "\n",
    "# -2 * (y_true - w * x - b)"
   ]
  },
  {
   "cell_type": "markdown",
   "id": "75ea75df-da98-4687-b921-47e1eb0b63cb",
   "metadata": {},
   "source": [
    "## Task 4\n",
    "Теперь мы с вами подошли к самому главному - реализации алгоритма [градиентного спуска](http://www.machinelearning.ru/wiki/index.php?title=%D0%9C%D0%B5%D1%82%D0%BE%D0%B4_%D0%B3%D1%80%D0%B0%D0%B4%D0%B8%D0%B5%D0%BD%D1%82%D0%BD%D0%BE%D0%B3%D0%BE_%D1%81%D0%BF%D1%83%D1%81%D0%BA%D0%B0).\n",
    "1. В этот раз тебе нужно написать класс `Gradient()`, который будет состоять из нескольких методов. Объект при \n",
    "инициализации получает два вектора: `X`, `Y`. Далее методы обращаются к ним уже внутри класса: \n",
    "     * `predict`: на вход она получает `w`, `b`, на выход она выдаёт прогнозные значения `Y_pred`;\n",
    "     * `mse`: на вход она получает `Y_pred`, на выход выдает посчитанное MSE;\n",
    "     * `update`: на вход она получает `w`, `b` и `a` (наш learning rate). Сделайте по умолчанию значение `a=0.0001`. А на \\ \n",
    "выходe метод выдаёт новые значения `w`, `b`, которые обновились благодаря посчитанным градиентам.\n",
    "2. Проверь работу методов, подав на вход класса два вектора `X`, `Y` и начальные параметры `w`, `b` в требуемые методы.\n",
    "\n",
    "P.S. Тут лучше все писать через numpy, потому что все вычисления будут в векторном виде. Через numpy это будет сделать удобнее)"
   ]
  },
  {
   "cell_type": "code",
   "execution_count": 14,
   "id": "b4bb1337-6f9c-49dc-bbc0-5952b12121ae",
   "metadata": {},
   "outputs": [],
   "source": [
    "X = np.array(\n",
    "    [32.50234527, 53.42680403, 61.53035803, 47.47563963, 59.81320787, 55.14218841, \n",
    "     52.21179669, 39.29956669, 48.10504169, 52.55001444, 45.41973014, 54.35163488, \n",
    "     44.1640495 , 58.16847072, 56.72720806, 48.95588857, 44.68719623, 60.29732685, \n",
    "     45.61864377, 38.81681754]\n",
    ")\n",
    "Y = np.array(\n",
    "    [31.70700585, 68.77759598, 62.5623823 , 71.54663223, 87.23092513, 78.21151827, \n",
    "     79.64197305, 59.17148932, 75.3312423 , 71.30087989, 55.16567715, 82.47884676, \n",
    "     62.00892325, 75.39287043, 81.43619216, 60.72360244, 82.89250373, 97.37989686, \n",
    "     48.84715332, 56.87721319]\n",
    ")"
   ]
  },
  {
   "cell_type": "code",
   "execution_count": 15,
   "id": "2b5a7a87-eb43-456f-adf3-add9b502e3e1",
   "metadata": {},
   "outputs": [
    {
     "data": {
      "image/png": "[encoded data removed]",
      "text/plain": [
       "<Figure size 640x480 with 1 Axes>"
      ]
     },
     "metadata": {},
     "output_type": "display_data"
    }
   ],
   "source": [
    "plt.scatter(X, Y);"
   ]
  },
  {
   "cell_type": "code",
   "execution_count": 16,
   "id": "99ad34a1-5c67-4430-84ad-dc77ac8b657f",
   "metadata": {},
   "outputs": [],
   "source": [
    "class Gradient:\n",
    "    def __init__(self, X, Y):\n",
    "        self.X = X\n",
    "        self.Y = Y\n",
    "        \n",
    "    def predict(self, w, b):\n",
    "        Y_pred = w * self.X + b\n",
    "        return Y_pred\n",
    "    \n",
    "    def mse(self, Y_pred):\n",
    "        mse = np.mean((self.Y - Y_pred)**2)\n",
    "        return mse\n",
    "\n",
    "    def update(self, w, b, a=0.0001):\n",
    "        w = w - a * (-2 * np.sum(self.X.dot(self.Y - w * self.X - b)) / len(X))\n",
    "        b = b - a * (-2 * (np.sum(self.Y - w * self.X - b)) / len(X))\n",
    "        return w, b"
   ]
  },
  {
   "cell_type": "code",
   "execution_count": 17,
   "id": "25e62039-afd6-4b5f-b9b6-19e95ce1d9e3",
   "metadata": {},
   "outputs": [],
   "source": [
    "gradient = Gradient(X, Y)"
   ]
  },
  {
   "cell_type": "code",
   "execution_count": 18,
   "id": "62f01842",
   "metadata": {},
   "outputs": [
    {
     "data": {
      "text/plain": [
       "array([20.25117263, 30.71340201, 34.76517902, 27.73781982, 33.90660393,\n",
       "       31.57109421, 30.10589834, 23.64978334, 28.05252085, 30.27500722,\n",
       "       26.70986507, 31.17581744, 26.08202475, 33.08423536, 32.36360403,\n",
       "       28.47794428, 26.34359811, 34.14866342, 26.80932188, 23.40840877])"
      ]
     },
     "execution_count": 18,
     "metadata": {},
     "output_type": "execute_result"
    }
   ],
   "source": [
    "Y_pred = gradient.predict(0.5, 4)\n",
    "\n",
    "Y_pred"
   ]
  },
  {
   "cell_type": "code",
   "execution_count": 19,
   "id": "c8a57a25",
   "metadata": {
    "scrolled": true
   },
   "outputs": [
    {
     "data": {
      "text/plain": [
       "1784.8517253411974"
      ]
     },
     "execution_count": 19,
     "metadata": {},
     "output_type": "execute_result"
    }
   ],
   "source": [
    "mse = gradient.mse(Y_pred)\n",
    "\n",
    "mse"
   ]
  },
  {
   "cell_type": "code",
   "execution_count": 20,
   "id": "8cd242be",
   "metadata": {},
   "outputs": [],
   "source": [
    "w_new, b_new = gradient.update(0.5, 4)"
   ]
  },
  {
   "cell_type": "code",
   "execution_count": 21,
   "id": "4ffda53b",
   "metadata": {},
   "outputs": [
    {
     "data": {
      "text/plain": [
       "0.9150528224014476"
      ]
     },
     "execution_count": 21,
     "metadata": {},
     "output_type": "execute_result"
    }
   ],
   "source": [
    "w_new"
   ]
  },
  {
   "cell_type": "code",
   "execution_count": 22,
   "id": "d3f2b012",
   "metadata": {},
   "outputs": [
    {
     "data": {
      "text/plain": [
       "4.003943052450454"
      ]
     },
     "execution_count": 22,
     "metadata": {},
     "output_type": "execute_result"
    }
   ],
   "source": [
    "b_new"
   ]
  },
  {
   "cell_type": "markdown",
   "id": "f2f68272-33ed-4c97-a97e-4216b1ab2ef4",
   "metadata": {},
   "source": [
    "## Task 5\n",
    "Улучшите ваш код таким образом, чтобы появился метод `optimize`. На вход метод принимает `num_iterations`, `stopping_threshold=0.001`, `a=0.000001`. \n",
    "Метод должен итеративным образом пройти какое-то количество раз обновление значений `w`, `b`, \n",
    "придя к оптимальному значению. Критерии останова:\n",
    "  * если было превышено количество заранее заданных итераций `num_iterations`;\n",
    "  * если новая итерация выдала разницу между текущей ошибкой и ошибкой прошлой итерации значение, меньшее, чем `stopping_threshold`;\n",
    "  * метод должен вернуть финальные значения `w`, `b`, и `mse`."
   ]
  },
  {
   "cell_type": "code",
   "execution_count": 23,
   "id": "442120b7",
   "metadata": {},
   "outputs": [],
   "source": [
    "class GradientDescent(Gradient):\n",
    "    \n",
    "    def __init__(self, X, Y):\n",
    "        self.X = X\n",
    "        self.Y = Y\n",
    "        \n",
    "    def optimize(self, num_iterations, stopping_threshold=0.001, a=0.000001):\n",
    "        # пропишу изначальные вес и отклонение: \n",
    "        w_new, b_new = self.update(0.5, 4)\n",
    "\n",
    "        # ход градиентного спуска: \n",
    "        for i in range(num_iterations):\n",
    "\n",
    "            # расчет ошибки для новых w и b: \n",
    "            Y_pred_new = self.predict(w_new, b_new)\n",
    "            mse_new = self.mse(Y_pred_new)\n",
    "           \n",
    "            if abs(mse - mse_new) < stopping_threshold:\n",
    "                break\n",
    "            else:\n",
    "                # расчет нового веса w: \n",
    "                w_new, b_new = self.update(w_new, b_new)\n",
    "                #print(i, w_new, b_new, mse_new)\n",
    "            \n",
    "        return w_new, b_new, mse_new"
   ]
  },
  {
   "cell_type": "code",
   "execution_count": 24,
   "id": "3b15cad5",
   "metadata": {},
   "outputs": [],
   "source": [
    "gra_des = GradientDescent(X, Y)"
   ]
  },
  {
   "cell_type": "code",
   "execution_count": 25,
   "id": "524c90d4",
   "metadata": {},
   "outputs": [
    {
     "data": {
      "text/plain": [
       "(1.3121118066473558, 4.005173202925906, 99.29460140812496)"
      ]
     },
     "execution_count": 25,
     "metadata": {},
     "output_type": "execute_result"
    }
   ],
   "source": [
    "gra_des.optimize(num_iterations=100, stopping_threshold=0.001, a=0.001)"
   ]
  }
 ],
 "metadata": {
  "kernelspec": {
   "display_name": "Python 3 (ipykernel)",
   "language": "python",
   "name": "python3"
  },
  "language_info": {
   "codemirror_mode": {
    "name": "ipython",
    "version": 3
   },
   "file_extension": ".py",
   "mimetype": "text/x-python",
   "name": "python",
   "nbconvert_exporter": "python",
   "pygments_lexer": "ipython3",
   "version": "3.10.9"
  }
 },
 "nbformat": 4,
 "nbformat_minor": 5
}
