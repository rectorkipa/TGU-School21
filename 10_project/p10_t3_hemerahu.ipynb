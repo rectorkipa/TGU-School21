{
 "cells": [
  {
   "cell_type": "markdown",
   "id": "53e405d3",
   "metadata": {},
   "source": [
    "## Project 10, task 3, Кривоногов Н.В. (hemerahu)"
   ]
  },
  {
   "cell_type": "markdown",
   "id": "065829d0",
   "metadata": {},
   "source": [
    "## 1. Создай соединение с базой данных с помощью библиотеки sqlite3."
   ]
  },
  {
   "cell_type": "code",
   "execution_count": 1,
   "id": "3cacad79",
   "metadata": {},
   "outputs": [
    {
     "data": {
      "text/plain": [
       "<sqlite3.Connection at 0x28f3f447240>"
      ]
     },
     "execution_count": 1,
     "metadata": {},
     "output_type": "execute_result"
    }
   ],
   "source": [
    "import sqlite3\n",
    "\n",
    "conn = sqlite3.connect('../data/checking-logs.sqlite')\n",
    "\n",
    "conn"
   ]
  },
  {
   "cell_type": "markdown",
   "id": "8b1404a2",
   "metadata": {},
   "source": [
    "## 2. Создай новую таблицу datamart в базе данных, объединив таблицы pageviews и checker с помощью только одного запроса.\n",
    "- Таблица должна содержать следующие столбцы: uid, labname, first_commit_ts, first_view_ts.\n",
    "- first_commit_ts — это просто новое имя для столбца timestamp из таблицы checker; он показывает первый коммит конкретного лабораторного задания конкретного пользователя.\n",
    "- first_view_ts — первое посещение пользователем из таблицы pageviews, метка времени посещения пользователем ленты новостей.\n",
    "- По-прежнему нужно использовать фильтр status = 'ready'.\n",
    "- По-прежнему нужно использовать фильтр numTrials = 1.\n",
    "- Имена лабораторных заданий по-прежнему должны быть из следующего списка: laba04, laba04s, laba05, laba06, laba06s, project1.\n",
    "- Таблица должна содержать только пользователей (uid с user_*), а не администраторов.\n",
    "- first_commit_ts и first_view_ts должны быть распарсены как datetime64[ns]."
   ]
  },
  {
   "cell_type": "code",
   "execution_count": 2,
   "id": "67344db1",
   "metadata": {
    "scrolled": true
   },
   "outputs": [
    {
     "data": {
      "text/plain": [
       "140"
      ]
     },
     "execution_count": 2,
     "metadata": {},
     "output_type": "execute_result"
    }
   ],
   "source": [
    "import pandas as pd\n",
    "\n",
    "datamart = pd. io.sql.read_sql('SELECT c.uid, c.labname, c.timestamp AS first_commit_ts, MIN(p.datetime) AS first_view_ts \\\n",
    "                                FROM checker AS c LEFT JOIN pageviews AS p ON c.uid = p.uid \\\n",
    "                                WHERE c.status = \"ready\" AND c.numTrials = 1 \\\n",
    "                                AND c.labname IN (\"laba04\", \"laba04s\", \"laba05\", \"laba06\", \"laba06s\", \"project1\") \\\n",
    "                                AND c.uid LIKE \"user_%\" GROUP BY c.timestamp, c.uid;', \n",
    "                                conn, parse_dates=['first_commit_ts', 'first_view_ts'])\n",
    "\n",
    "datamart.to_sql('datamart', conn, if_exists='replace')"
   ]
  },
  {
   "cell_type": "markdown",
   "id": "0b7d3e3f",
   "metadata": {},
   "source": [
    "## 3. Используя методы библиотеки Pandas, создай два датафрейма: test и control.\n",
    "- test должен включать пользователей, у которых имеются значения в first_view_ts.\n",
    "- control должен включать пользователей, у которых отсутствуют значения в first_view_ts.\n",
    "- Замени пропущенные значения в control средним значением first_view_ts пользователей из test (оно пригодится нам для анализа в будущем).\n",
    "- Сохрани обе таблицы в базе данных (вы будете использовать их в следующих упражнениях)."
   ]
  },
  {
   "cell_type": "code",
   "execution_count": 3,
   "id": "d3cdd3ce",
   "metadata": {},
   "outputs": [
    {
     "data": {
      "text/plain": [
       "81"
      ]
     },
     "execution_count": 3,
     "metadata": {},
     "output_type": "execute_result"
    }
   ],
   "source": [
    "test = datamart.dropna().copy()\n",
    "\n",
    "control = datamart[datamart['first_view_ts'].isna()].copy()\n",
    "control['first_view_ts'] = test['first_view_ts'].mean()\n",
    "\n",
    "test.to_sql('test', conn, if_exists='replace')\n",
    "control.to_sql('control', conn, if_exists='replace')"
   ]
  },
  {
   "cell_type": "markdown",
   "id": "c45623ca",
   "metadata": {},
   "source": [
    "## 4. Закрой соединение."
   ]
  },
  {
   "cell_type": "code",
   "execution_count": 4,
   "id": "a0171f8c",
   "metadata": {},
   "outputs": [],
   "source": [
    "conn.close()"
   ]
  }
 ],
 "metadata": {
  "kernelspec": {
   "display_name": "Python 3 (ipykernel)",
   "language": "python",
   "name": "python3"
  },
  "language_info": {
   "codemirror_mode": {
    "name": "ipython",
    "version": 3
   },
   "file_extension": ".py",
   "mimetype": "text/x-python",
   "name": "python",
   "nbconvert_exporter": "python",
   "pygments_lexer": "ipython3",
   "version": "3.10.9"
  }
 },
 "nbformat": 4,
 "nbformat_minor": 5
}
