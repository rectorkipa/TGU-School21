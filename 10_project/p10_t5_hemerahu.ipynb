{
 "cells": [
  {
   "cell_type": "markdown",
   "id": "53e405d3",
   "metadata": {},
   "source": [
    "## Project 10, task 5, Кривоногов Н.В. (hemerahu)"
   ]
  },
  {
   "cell_type": "markdown",
   "id": "065829d0",
   "metadata": {},
   "source": [
    "## 1. Создай соединение с базой данных с помощью библиотеки sqlite3."
   ]
  },
  {
   "cell_type": "code",
   "execution_count": 1,
   "id": "3cacad79",
   "metadata": {},
   "outputs": [
    {
     "data": {
      "text/plain": [
       "<sqlite3.Connection at 0x196bf78ad40>"
      ]
     },
     "execution_count": 1,
     "metadata": {},
     "output_type": "execute_result"
    }
   ],
   "source": [
    "import sqlite3\n",
    "\n",
    "conn = sqlite3.connect('../data/checking-logs.sqlite')\n",
    "\n",
    "conn"
   ]
  },
  {
   "cell_type": "markdown",
   "id": "92d22e6a",
   "metadata": {},
   "source": [
    "## 2. Используя только один запрос для каждой из групп, создай два датафрейма: test_results и control_results со столбцами time и avg_diff и только двумя строками.\n",
    "- times должно иметь значения before и after.\n",
    "- avg_diff содержит среднее значение дельты для всех пользователей за период времени до первого посещения ленты новостей каждым из них и после этого.\n",
    "- Учитываются только те пользователи, для которых имеются наблюдения и before, и after.\n",
    "## 3. Мы по-прежнему не используем лабораторное задание 'project1'."
   ]
  },
  {
   "cell_type": "code",
   "execution_count": 2,
   "id": "51c18e96",
   "metadata": {},
   "outputs": [
    {
     "data": {
      "text/html": [
       "<div>\n",
       "<style scoped>\n",
       "    .dataframe tbody tr th:only-of-type {\n",
       "        vertical-align: middle;\n",
       "    }\n",
       "\n",
       "    .dataframe tbody tr th {\n",
       "        vertical-align: top;\n",
       "    }\n",
       "\n",
       "    .dataframe thead th {\n",
       "        text-align: right;\n",
       "    }\n",
       "</style>\n",
       "<table border=\"1\" class=\"dataframe\">\n",
       "  <thead>\n",
       "    <tr style=\"text-align: right;\">\n",
       "      <th></th>\n",
       "      <th>time</th>\n",
       "      <th>avg_diff</th>\n",
       "    </tr>\n",
       "  </thead>\n",
       "  <tbody>\n",
       "    <tr>\n",
       "      <th>0</th>\n",
       "      <td>after</td>\n",
       "      <td>-99.523810</td>\n",
       "    </tr>\n",
       "    <tr>\n",
       "      <th>1</th>\n",
       "      <td>before</td>\n",
       "      <td>-66.047619</td>\n",
       "    </tr>\n",
       "  </tbody>\n",
       "</table>\n",
       "</div>"
      ],
      "text/plain": [
       "     time   avg_diff\n",
       "0   after -99.523810\n",
       "1  before -66.047619"
      ]
     },
     "execution_count": 2,
     "metadata": {},
     "output_type": "execute_result"
    }
   ],
   "source": [
    "import pandas as pd\n",
    "\n",
    "test_results = pd.io.sql.read_sql('SELECT time, AVG(diff) AS avg_diff FROM \\\n",
    "                                  (SELECT uid, labname, AVG((strftime(\"%s\", first_commit_ts) - deadlines) / 3600) AS diff, \\\n",
    "                                  CASE WHEN (strftime(\"%s\", first_commit_ts) - strftime(\"%s\", first_view_ts)) / 3600 < 0 \\\n",
    "                                  THEN \"before\" ELSE \"after\" END AS time FROM test AS t \\\n",
    "                                  LEFT JOIN deadlines AS d ON t.labname = d.labs WHERE labname IN \\\n",
    "                                  (\"laba04\", \"laba04s\", \"laba05\", \"laba06\", \"laba06s\") GROUP BY uid, time) \\\n",
    "                                  WHERE uid IN \\\n",
    "                                  (SELECT uid FROM (SELECT uid, \\\n",
    "                                  CASE WHEN (strftime(\"%s\", first_commit_ts) - strftime(\"%s\", first_view_ts)) / 3600 < 0 \\\n",
    "                                  THEN \"before\" ELSE \"after\" END AS time FROM test AS t WHERE labname IN \\\n",
    "                                  (\"laba04\", \"laba04s\", \"laba05\", \"laba06\", \"laba06s\") GROUP BY uid, time) \\\n",
    "                                  GROUP BY uid HAVING COUNT(uid) == 2) GROUP BY time;', conn)\n",
    "\n",
    "test_results"
   ]
  },
  {
   "cell_type": "code",
   "execution_count": 3,
   "id": "2c18bff3",
   "metadata": {},
   "outputs": [
    {
     "data": {
      "text/html": [
       "<div>\n",
       "<style scoped>\n",
       "    .dataframe tbody tr th:only-of-type {\n",
       "        vertical-align: middle;\n",
       "    }\n",
       "\n",
       "    .dataframe tbody tr th {\n",
       "        vertical-align: top;\n",
       "    }\n",
       "\n",
       "    .dataframe thead th {\n",
       "        text-align: right;\n",
       "    }\n",
       "</style>\n",
       "<table border=\"1\" class=\"dataframe\">\n",
       "  <thead>\n",
       "    <tr style=\"text-align: right;\">\n",
       "      <th></th>\n",
       "      <th>time</th>\n",
       "      <th>avg_diff</th>\n",
       "    </tr>\n",
       "  </thead>\n",
       "  <tbody>\n",
       "    <tr>\n",
       "      <th>0</th>\n",
       "      <td>after</td>\n",
       "      <td>-99.322222</td>\n",
       "    </tr>\n",
       "    <tr>\n",
       "      <th>1</th>\n",
       "      <td>before</td>\n",
       "      <td>-98.033333</td>\n",
       "    </tr>\n",
       "  </tbody>\n",
       "</table>\n",
       "</div>"
      ],
      "text/plain": [
       "     time   avg_diff\n",
       "0   after -99.322222\n",
       "1  before -98.033333"
      ]
     },
     "execution_count": 3,
     "metadata": {},
     "output_type": "execute_result"
    }
   ],
   "source": [
    "control_results = pd.io.sql.read_sql('SELECT time, AVG(diff) AS avg_diff FROM \\\n",
    "                                  (SELECT uid, labname, AVG((strftime(\"%s\", first_commit_ts) - deadlines) / 3600) AS diff, \\\n",
    "                                  CASE WHEN (strftime(\"%s\", first_commit_ts) - strftime(\"%s\", first_view_ts)) / 3600 < 0 \\\n",
    "                                  THEN \"before\" ELSE \"after\" END AS time FROM control AS t \\\n",
    "                                  LEFT JOIN deadlines AS d ON t.labname = d.labs WHERE labname IN \\\n",
    "                                  (\"laba04\", \"laba04s\", \"laba05\", \"laba06\", \"laba06s\") GROUP BY uid, time) \\\n",
    "                                  WHERE uid IN \\\n",
    "                                  (SELECT uid FROM (SELECT uid, \\\n",
    "                                  CASE WHEN (strftime(\"%s\", first_commit_ts) - strftime(\"%s\", first_view_ts)) / 3600 < 0 \\\n",
    "                                  THEN \"before\" ELSE \"after\" END AS time FROM control AS t WHERE labname IN \\\n",
    "                                  (\"laba04\", \"laba04s\", \"laba05\", \"laba06\", \"laba06s\") GROUP BY uid, time) \\\n",
    "                                  GROUP BY uid HAVING COUNT(uid) == 2) GROUP BY time;', conn)\n",
    "\n",
    "control_results"
   ]
  },
  {
   "cell_type": "markdown",
   "id": "c45623ca",
   "metadata": {},
   "source": [
    "## 4. Закрой соединение."
   ]
  },
  {
   "cell_type": "code",
   "execution_count": 4,
   "id": "a0171f8c",
   "metadata": {},
   "outputs": [],
   "source": [
    "conn.close()"
   ]
  },
  {
   "cell_type": "markdown",
   "id": "c1ca100e",
   "metadata": {},
   "source": [
    "## 5. Дайте ответ: оказалось ли предположение верным и влияет ли наличие страницы с новостной лентой на поведение учащихся?"
   ]
  },
  {
   "cell_type": "markdown",
   "id": "d82e4fc9",
   "metadata": {},
   "source": [
    "Предположение оказалось верным. Ведь в тестовой выборке средняя дельта показывает, что посещение ленты новостей оказало на поведение учащихся. В итоге они приступили к работе над лабораторным заданием раньше. "
   ]
  }
 ],
 "metadata": {
  "kernelspec": {
   "display_name": "Python 3 (ipykernel)",
   "language": "python",
   "name": "python3"
  },
  "language_info": {
   "codemirror_mode": {
    "name": "ipython",
    "version": 3
   },
   "file_extension": ".py",
   "mimetype": "text/x-python",
   "name": "python",
   "nbconvert_exporter": "python",
   "pygments_lexer": "ipython3",
   "version": "3.10.9"
  }
 },
 "nbformat": 4,
 "nbformat_minor": 5
}
