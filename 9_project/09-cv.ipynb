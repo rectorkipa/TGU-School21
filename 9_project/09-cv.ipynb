{
 "cells": [
  {
   "cell_type": "markdown",
   "id": "bc96ecfa-5d52-47b6-a976-ed8920ea2c91",
   "metadata": {
    "id": "bc96ecfa-5d52-47b6-a976-ed8920ea2c91"
   },
   "source": [
    "# Computer Vision"
   ]
  },
  {
   "cell_type": "markdown",
   "id": "d2b1ae31",
   "metadata": {
    "id": "d2b1ae31"
   },
   "source": [
    "## Task 1"
   ]
  },
  {
   "cell_type": "markdown",
   "id": "a15a00d3",
   "metadata": {
    "id": "a15a00d3"
   },
   "source": [
    "Давай загрузим датасет CIFAR-10. Допиши функцию [load_dataloaders](./code-samples/cv_utils.py) с помощью [torchvision.datasets.CIFAR10](https://pytorch.org/vision/main/generated/torchvision.datasets.CIFAR10.html)\n",
    "и [torch.utils.data.DataLoader](https://pytorch.org/docs/stable/data.html#torch.utils.data.DataLoader), чтобы функция возвращала\n",
    "DataLoaderы для train и test частей датасета. \\\n",
    "C помощью функции `len` количество батчей в train_loader и test_loader.\n",
    "> Для DataLoader параметры `transform` и `batch_size` оставьте по умолчанию."
   ]
  },
  {
   "cell_type": "code",
   "execution_count": null,
   "id": "3acf79ca",
   "metadata": {
    "executionInfo": {
     "elapsed": 5923,
     "status": "ok",
     "timestamp": 1686825222248,
     "user": {
      "displayName": "Вадим Юшкин",
      "userId": "06312487074651780115"
     },
     "user_tz": -420
    },
    "id": "fb63e4df"
   },
   "outputs": [],
   "source": [
    "!pip install torch"
   ]
  },
  {
   "cell_type": "code",
   "execution_count": null,
   "id": "517a31d3",
   "metadata": {
    "executionInfo": {
     "elapsed": 5923,
     "status": "ok",
     "timestamp": 1686825222248,
     "user": {
      "displayName": "Вадим Юшкин",
      "userId": "06312487074651780115"
     },
     "user_tz": -420
    },
    "id": "fb63e4df"
   },
   "outputs": [],
   "source": [
    "!pip install torchvision"
   ]
  },
  {
   "cell_type": "code",
   "execution_count": 1,
   "id": "fb63e4df",
   "metadata": {
    "executionInfo": {
     "elapsed": 5923,
     "status": "ok",
     "timestamp": 1686825222248,
     "user": {
      "displayName": "Вадим Юшкин",
      "userId": "06312487074651780115"
     },
     "user_tz": -420
    },
    "id": "fb63e4df"
   },
   "outputs": [],
   "source": [
    "import torch\n",
    "from torch import *\n",
    "import torchvision\n",
    "from torchvision.transforms import transforms\n",
    "from torchvision.datasets import CIFAR10\n",
    "BASE_TRANSFORM = transforms.Compose(\n",
    "    [\n",
    "        # Перевод изображений в тензоры\n",
    "        transforms.ToTensor(),\n",
    "        # Переводим цвета пикселей в отрезок [-1, 1]\n",
    "        transforms.Normalize((0.5, 0.5, 0.5), (0.5, 0.5, 0.5))\n",
    "    ]\n",
    ")\n",
    "BATCH_SIZE = 64 # Количество изображений в Батче\n",
    "CLASSES = ('plane', 'car', 'bird', 'cat', 'deer', 'dog', 'frog', 'horse', 'ship', 'truck') # Классы CIFAR10"
   ]
  },
  {
   "cell_type": "code",
   "execution_count": 40,
   "id": "7113c8cc",
   "metadata": {
    "colab": {
     "base_uri": "https://localhost:8080/"
    },
    "executionInfo": {
     "elapsed": 14896,
     "status": "ok",
     "timestamp": 1686825238631,
     "user": {
      "displayName": "Вадим Юшкин",
      "userId": "06312487074651780115"
     },
     "user_tz": -420
    },
    "id": "7113c8cc",
    "outputId": "06ba98b2-a3e3-4384-e4db-b6ae1a174d4e"
   },
   "outputs": [
    {
     "name": "stdout",
     "output_type": "stream",
     "text": [
      "Files already downloaded and verified\n",
      "The number of batches in a test_loader is:  157\n",
      "The number of batches in a train_loader is:  782\n"
     ]
    }
   ],
   "source": [
    "def load_dataloaders(transform=BASE_TRANSFORM, batch_size=BATCH_SIZE):\n",
    "    train_set = torchvision.datasets.CIFAR10(root='./data', train=True, download=True, transform=transform)\n",
    "    train_loader = torch.utils.data.DataLoader(train_set, batch_size=batch_size, shuffle=True, num_workers=2)\n",
    "\n",
    "    test_set = torchvision.datasets.CIFAR10(root='./data', train = False, transform = transform)\n",
    "    test_loader = torch.utils.data.DataLoader(test_set, batch_size=batch_size, shuffle=False, num_workers=2)\n",
    "\n",
    "    return train_loader, test_loader\n",
    "train_loader, test_loader = load_dataloaders()\n",
    "print(\"The number of batches in a test_loader is: \", len(test_loader))\n",
    "\n",
    "print(\"The number of batches in a train_loader is: \", len(train_loader))\n"
   ]
  },
  {
   "cell_type": "markdown",
   "id": "a17f876e",
   "metadata": {
    "id": "a17f876e"
   },
   "source": [
    "## Task 2"
   ]
  },
  {
   "cell_type": "markdown",
   "id": "eb3a5ac9",
   "metadata": {
    "id": "eb3a5ac9"
   },
   "source": [
    "Узнай, как из объекта DataLoader можно получить изображения и метки. \\\n",
    "Передай первые 4 изображения и метки из первого батча тестовой выборки в функцию [imshow](./code-samples/cv_utils.py).\n",
    "С помощью нее можно визуализировать датасет. \\\n",
    "Должна получиться примерно такая визуализация.\n",
    "![sample](../misc/images/images_sample.png)\n",
    "> Картинки и метки могут отличаться. Главное чтобы метки сходились с изображениями)"
   ]
  },
  {
   "cell_type": "code",
   "execution_count": 41,
   "id": "50a9831b",
   "metadata": {
    "executionInfo": {
     "elapsed": 396,
     "status": "ok",
     "timestamp": 1686825243467,
     "user": {
      "displayName": "Вадим Юшкин",
      "userId": "06312487074651780115"
     },
     "user_tz": -420
    },
    "id": "50a9831b"
   },
   "outputs": [],
   "source": [
    "def imshow(images, labels, padding_size=15, labels_split_size=12):\n",
    "    # убрать нормализацию\n",
    "    npimg = images.numpy()\n",
    "    images = images\n",
    "    \n",
    "    label_text = (' ' * labels_split_size).join('{}'.format(CLASSES[j]) for j in labels.tolist())\n",
    "    print(' ' * padding_size + label_text)\n",
    "    plt.imshow(np.transpose(npimg, (1, 2, 0)))\n",
    "    plt.show()\n"
   ]
  },
  {
   "cell_type": "code",
   "execution_count": 43,
   "id": "99b603c7",
   "metadata": {
    "colab": {
     "base_uri": "https://localhost:8080/",
     "height": 210
    },
    "executionInfo": {
     "elapsed": 1043,
     "status": "ok",
     "timestamp": 1686825246846,
     "user": {
      "displayName": "Вадим Юшкин",
      "userId": "06312487074651780115"
     },
     "user_tz": -420
    },
    "id": "99b603c7",
    "outputId": "4786ad3e-5048-4d45-8abb-f6829ec79e07"
   },
   "outputs": [
    {
     "name": "stderr",
     "output_type": "stream",
     "text": [
      "Clipping input data to the valid range for imshow with RGB data ([0..1] for floats or [0..255] for integers).\n"
     ]
    },
    {
     "name": "stdout",
     "output_type": "stream",
     "text": [
      "               cat            ship            ship            plane\n"
     ]
    },
    {
     "data": {
      "image/png": "[encoded data removed]",
      "text/plain": [
       "<Figure size 640x480 with 1 Axes>"
      ]
     },
     "metadata": {},
     "output_type": "display_data"
    }
   ],
   "source": [
    "import matplotlib.pyplot as plt\n",
    "import numpy as np\n",
    "\n",
    "# get some random training images\n",
    "\n",
    "dataiter = iter(test_loader)\n",
    "images, labels = next(dataiter)\n",
    "\n",
    "# show images\n",
    "imshow(torchvision.utils.make_grid(images[0:4]),(labels[0:4]))\n"
   ]
  },
  {
   "cell_type": "markdown",
   "id": "7ed667eb",
   "metadata": {
    "id": "7ed667eb"
   },
   "source": [
    "## Task 3"
   ]
  },
  {
   "cell_type": "markdown",
   "id": "96195e2f",
   "metadata": {
    "id": "96195e2f"
   },
   "source": [
    "Теперь попробуем написать небольшую сверточную нейронную сеть, которую мы будем обучать классифицировать изображения.\n",
    "\n",
    "Напишем сеть, основанную на одном блоке архитектуры [ResNet](https://arxiv.org/pdf/1512.03385.pdf) - Residual-Block. Схема этого блока приведена ниже:\n",
    "\n",
    "<img src=\"../misc/images/rediual_block.png\" width=\"500\"/>\n",
    "\n",
    "Допишите класс ResidualNet:\n",
    "- Все сверточные слои должны иметь 32 выходных канала, а также не должны изменять ширину и высоту изображения.\n",
    "- Также в сверточных слоях `padding = 1`\n",
    "\n",
    "Функции, которые вам понадобяться:\n",
    "[Conv2d](https://pytorch.org/docs/stable/generated/torch.nn.Conv2d.html), [BatchNorm2d](https://pytorch.org/docs/stable/generated/torch.nn.BatchNorm2d.html), [ReLU](https://pytorch.org/docs/stable/generated/torch.nn.ReLU.html).\n",
    "\n",
    "Для базовой проверки, что сеть написана верно этот код не должен выдавать ошибку\\\n",
    "`assert net(torch.zeros((10, 3, 32, 32))).shape == (10, 10)`"
   ]
  },
  {
   "cell_type": "code",
   "execution_count": 44,
   "id": "20b15b3c",
   "metadata": {
    "executionInfo": {
     "elapsed": 441,
     "status": "ok",
     "timestamp": 1686825255744,
     "user": {
      "displayName": "Вадим Юшкин",
      "userId": "06312487074651780115"
     },
     "user_tz": -420
    },
    "id": "20b15b3c"
   },
   "outputs": [],
   "source": [
    "import torch.nn as nn\n",
    "class ResidualNet(nn.Module):\n",
    "    def __init__(self, n_classes=10):\n",
    "        super().__init__()\n",
    "\n",
    "        self.conv_3 = nn.Conv2d(3, 32, 1)\n",
    "\n",
    "        self.residual_block = nn.Sequential(\n",
    "            nn.Conv2d(3,32,kernel_size = 3,padding = 1),\n",
    "            nn.BatchNorm2d(32),\n",
    "            nn.ReLU(),\n",
    "            nn.Conv2d(32,32,kernel_size = 3,padding = 1),\n",
    "            nn.BatchNorm2d(32)\n",
    "\n",
    "        )\n",
    "\n",
    "        self.clf = nn.Sequential(\n",
    "            nn.ReLU(),\n",
    "            nn.AvgPool2d(8),\n",
    "            nn.Flatten(1),\n",
    "            nn.Linear(512, n_classes)\n",
    "        )\n",
    "\n",
    "    def forward(self, x):\n",
    "\n",
    "        out = self.residual_block(x)\n",
    "        out += self.conv_3(x)\n",
    "        out = self.clf(out)\n",
    "\n",
    "        return out"
   ]
  },
  {
   "cell_type": "code",
   "execution_count": 45,
   "id": "0278b0e6",
   "metadata": {
    "executionInfo": {
     "elapsed": 458,
     "status": "ok",
     "timestamp": 1686825259211,
     "user": {
      "displayName": "Вадим Юшкин",
      "userId": "06312487074651780115"
     },
     "user_tz": -420
    },
    "id": "0278b0e6"
   },
   "outputs": [],
   "source": [
    "net = ResidualNet()\n",
    "\n",
    "assert net(torch.zeros((10, 3, 32, 32))).shape == (10, 10)"
   ]
  },
  {
   "cell_type": "markdown",
   "id": "4c0644d4",
   "metadata": {
    "id": "4c0644d4"
   },
   "source": [
    "## Task 4"
   ]
  },
  {
   "cell_type": "markdown",
   "id": "4c786c99",
   "metadata": {
    "id": "4c786c99"
   },
   "source": [
    "Перейдем к обучению сети. В этом вам поможет класс [Trainer](./code-samples/cv_utils.py).\\\n",
    "Для обучения кроме самой модели\n",
    "требуемся определить оптимизатор и функцию ошибок:\n",
    "* В качестве оптимизатора выберите [стохастический градиентный спуск](https://pytorch.org/docs/stable/generated/torch.optim.SGD.html)\n",
    "* В качестве функции ошибок\n",
    "[кросс-энтропия](https://pytorch.org/docs/stable/generated/torch.nn.CrossEntropyLoss.html)\n",
    "\n",
    "Обучите сеть и с помощью функции [plot_train_log](./code-samples/cv_utils.py) визуализируй процесс обучения модели."
   ]
  },
  {
   "cell_type": "code",
   "execution_count": null,
   "id": "c807b3cb",
   "metadata": {
    "executionInfo": {
     "elapsed": 9,
     "status": "ok",
     "timestamp": 1686825262669,
     "user": {
      "displayName": "Вадим Юшкин",
      "userId": "06312487074651780115"
     },
     "user_tz": -420
    },
    "id": "a1c46945"
   },
   "outputs": [],
   "source": [
    "!pip install cuda-python"
   ]
  },
  {
   "cell_type": "code",
   "execution_count": 46,
   "id": "a1740742",
   "metadata": {
    "executionInfo": {
     "elapsed": 9,
     "status": "ok",
     "timestamp": 1686825262669,
     "user": {
      "displayName": "Вадим Юшкин",
      "userId": "06312487074651780115"
     },
     "user_tz": -420
    },
    "id": "a1c46945"
   },
   "outputs": [
    {
     "name": "stdout",
     "output_type": "stream",
     "text": [
      "Pytorch CUDA Version is None\n"
     ]
    }
   ],
   "source": [
    "print('Pytorch CUDA Version is', torch.version.cuda)"
   ]
  },
  {
   "cell_type": "code",
   "execution_count": 47,
   "id": "051f1ab7",
   "metadata": {
    "executionInfo": {
     "elapsed": 9,
     "status": "ok",
     "timestamp": 1686825262669,
     "user": {
      "displayName": "Вадим Юшкин",
      "userId": "06312487074651780115"
     },
     "user_tz": -420
    },
    "id": "a1c46945"
   },
   "outputs": [
    {
     "name": "stdout",
     "output_type": "stream",
     "text": [
      "Looking in indexes: https://download.pytorch.org/whl/cu118\n",
      "Requirement already satisfied: torch in c:\\users\\sv_k7\\appdata\\local\\programs\\python\\python310\\lib\\site-packages (2.0.1)\n",
      "Requirement already satisfied: torchvision in c:\\users\\sv_k7\\appdata\\local\\programs\\python\\python310\\lib\\site-packages (0.15.2)\n",
      "Requirement already satisfied: torchaudio in c:\\users\\sv_k7\\appdata\\local\\programs\\python\\python310\\lib\\site-packages (2.0.2)\n",
      "Requirement already satisfied: filelock in c:\\users\\sv_k7\\appdata\\local\\programs\\python\\python310\\lib\\site-packages (from torch) (3.12.2)\n",
      "Requirement already satisfied: typing-extensions in c:\\users\\sv_k7\\appdata\\local\\programs\\python\\python310\\lib\\site-packages (from torch) (4.6.3)\n",
      "Requirement already satisfied: sympy in c:\\users\\sv_k7\\appdata\\local\\programs\\python\\python310\\lib\\site-packages (from torch) (1.12)\n",
      "Requirement already satisfied: networkx in c:\\users\\sv_k7\\appdata\\local\\programs\\python\\python310\\lib\\site-packages (from torch) (3.1)\n",
      "Requirement already satisfied: jinja2 in c:\\users\\sv_k7\\appdata\\local\\programs\\python\\python310\\lib\\site-packages (from torch) (3.1.2)\n",
      "Requirement already satisfied: numpy in c:\\users\\sv_k7\\appdata\\local\\programs\\python\\python310\\lib\\site-packages (from torchvision) (1.24.3)\n",
      "Requirement already satisfied: requests in c:\\users\\sv_k7\\appdata\\local\\programs\\python\\python310\\lib\\site-packages (from torchvision) (2.30.0)\n",
      "Requirement already satisfied: pillow!=8.3.*,>=5.3.0 in c:\\users\\sv_k7\\appdata\\local\\programs\\python\\python310\\lib\\site-packages (from torchvision) (9.5.0)\n",
      "Requirement already satisfied: MarkupSafe>=2.0 in c:\\users\\sv_k7\\appdata\\local\\programs\\python\\python310\\lib\\site-packages (from jinja2->torch) (2.1.2)\n",
      "Requirement already satisfied: charset-normalizer<4,>=2 in c:\\users\\sv_k7\\appdata\\local\\programs\\python\\python310\\lib\\site-packages (from requests->torchvision) (3.1.0)\n",
      "Requirement already satisfied: idna<4,>=2.5 in c:\\users\\sv_k7\\appdata\\local\\programs\\python\\python310\\lib\\site-packages (from requests->torchvision) (2.10)\n",
      "Requirement already satisfied: urllib3<3,>=1.21.1 in c:\\users\\sv_k7\\appdata\\local\\programs\\python\\python310\\lib\\site-packages (from requests->torchvision) (2.0.2)\n",
      "Requirement already satisfied: certifi>=2017.4.17 in c:\\users\\sv_k7\\appdata\\local\\programs\\python\\python310\\lib\\site-packages (from requests->torchvision) (2023.5.7)\n",
      "Requirement already satisfied: mpmath>=0.19 in c:\\users\\sv_k7\\appdata\\local\\programs\\python\\python310\\lib\\site-packages (from sympy->torch) (1.3.0)\n"
     ]
    }
   ],
   "source": [
    "!pip3 install torch torchvision torchaudio --index-url https://download.pytorch.org/whl/cu118"
   ]
  },
  {
   "cell_type": "code",
   "execution_count": 8,
   "id": "dc5224c6",
   "metadata": {
    "executionInfo": {
     "elapsed": 9,
     "status": "ok",
     "timestamp": 1686825262669,
     "user": {
      "displayName": "Вадим Юшкин",
      "userId": "06312487074651780115"
     },
     "user_tz": -420
    },
    "id": "a1c46945"
   },
   "outputs": [
    {
     "data": {
      "text/plain": [
       "False"
      ]
     },
     "execution_count": 8,
     "metadata": {},
     "output_type": "execute_result"
    }
   ],
   "source": [
    "torch.cuda.is_available()"
   ]
  },
  {
   "cell_type": "code",
   "execution_count": 48,
   "id": "a1c46945",
   "metadata": {
    "executionInfo": {
     "elapsed": 9,
     "status": "ok",
     "timestamp": 1686825262669,
     "user": {
      "displayName": "Вадим Юшкин",
      "userId": "06312487074651780115"
     },
     "user_tz": -420
    },
    "id": "a1c46945"
   },
   "outputs": [],
   "source": [
    "class Trainer:\n",
    "\n",
    "    def __init__(self, model, optimizer, criterion):\n",
    "        self.model = model\n",
    "        self.device = torch.device('cuda:0' if torch.cuda.is_available() else 'cpu')\n",
    "        self.model = self.model.to(self.device)\n",
    "        print('Сеть загружена на', self.device)\n",
    "\n",
    "        self.optimizer = optimizer\n",
    "        self.criterion = criterion\n",
    "\n",
    "    def _train_epoch(self, train_loader):\n",
    "        loss_log = []\n",
    "        acc_log = []\n",
    "        self.model.train()\n",
    "\n",
    "        for data, target in train_loader:\n",
    "            data = data.to(self.device)\n",
    "            target = target.to(self.device)\n",
    "\n",
    "            self.optimizer.zero_grad()\n",
    "            logits = self.model(data)\n",
    "\n",
    "            loss = self.criterion(logits, target)\n",
    "            loss.backward()\n",
    "            self.optimizer.step()\n",
    "\n",
    "            loss_log.append(loss.item() * data.shape[0])\n",
    "\n",
    "            acc = (logits.argmax(dim=1) == target).sum()\n",
    "            acc_log.append(acc.item() / data.shape[0])\n",
    "\n",
    "        return np.mean(loss_log), np.mean(acc_log)\n",
    "\n",
    "    def train(self, train_loader, test_loader, n_epochs):\n",
    "\n",
    "        self.train_loss_log = []\n",
    "        self.train_acc_log = []\n",
    "        self.test_loss_log = []\n",
    "        self.test_acc_log = []\n",
    "\n",
    "        for epoch in range(1,n_epochs):\n",
    "            train_loss, train_acc = self._train_epoch(train_loader)\n",
    "            test_loss, test_acc = self.test(test_loader)\n",
    "\n",
    "            self.train_loss_log.append(train_loss)\n",
    "            self.train_acc_log.append(train_acc)\n",
    "\n",
    "            self.test_loss_log.append(test_loss)\n",
    "            self.test_acc_log.append(test_acc)\n",
    "\n",
    "            print(f\"Epoch {epoch}\")\n",
    "            print(f\" train loss: {np.mean(train_loss)}, train acc: {np.mean(train_acc)}\")\n",
    "            print(f\" test loss: {test_loss}, test acc: {test_acc}\\n\")\n",
    "\n",
    "    def test(self, test_loader):\n",
    "        loss_log = []\n",
    "        acc_log = []\n",
    "        self.model.eval()\n",
    "\n",
    "        for data, target in test_loader:\n",
    "            data = data.to(self.device)\n",
    "            target = target.to(self.device)\n",
    "\n",
    "            with torch.no_grad():\n",
    "                logits = self.model(data)\n",
    "                loss = self.criterion(logits, target)\n",
    "\n",
    "            loss_log.append(loss.item() * data.shape[0])\n",
    "\n",
    "            acc = (logits.argmax(dim=1) == target).sum()\n",
    "            acc_log.append(acc.item() / data.shape[0])\n",
    "\n",
    "        return np.mean(loss_log), np.mean(acc_log)"
   ]
  },
  {
   "cell_type": "code",
   "execution_count": 49,
   "id": "7b2821c3",
   "metadata": {
    "executionInfo": {
     "elapsed": 385,
     "status": "ok",
     "timestamp": 1686825269837,
     "user": {
      "displayName": "Вадим Юшкин",
      "userId": "06312487074651780115"
     },
     "user_tz": -420
    },
    "id": "7b2821c3"
   },
   "outputs": [],
   "source": [
    "def plot_train_log(trainer):\n",
    "    fig, axs = plt.subplots(1, 2, figsize=(13, 4))\n",
    "\n",
    "    axs[0].plot(range(1, len(trainer.train_loss_log) ), trainer.train_loss_log, label='train')\n",
    "    axs[0].plot(range(1, len(trainer.test_loss_log) ), trainer.test_loss_log, label='test')\n",
    "    axs[0].set_ylabel('Loss')\n",
    "\n",
    "    axs[1].plot(range(1, len(trainer.train_acc_log) ), trainer.train_acc_log, label='train')\n",
    "    axs[1].plot(range(1, len(trainer.test_acc_log) ), trainer.test_acc_log, label='test')\n",
    "    axs[1].set_ylabel('Accuracy')\n",
    "\n",
    "    for ax in axs:\n",
    "        ax.set_xlabel('Epoch')\n",
    "        ax.legend()\n",
    "\n",
    "    plt.show()"
   ]
  },
  {
   "cell_type": "code",
   "execution_count": 50,
   "id": "03d49690",
   "metadata": {
    "colab": {
     "base_uri": "https://localhost:8080/"
    },
    "executionInfo": {
     "elapsed": 883267,
     "status": "ok",
     "timestamp": 1686826157923,
     "user": {
      "displayName": "Вадим Юшкин",
      "userId": "06312487074651780115"
     },
     "user_tz": -420
    },
    "id": "03d49690",
    "outputId": "fd845b50-7c09-4c17-c5a8-07f900082621"
   },
   "outputs": [
    {
     "name": "stdout",
     "output_type": "stream",
     "text": [
      "Сеть загружена на cpu\n"
     ]
    },
    {
     "name": "stderr",
     "output_type": "stream",
     "text": [
      "C:\\Users\\sv_k7\\AppData\\Local\\Temp\\ipykernel_25040\\3639198586.py:42: UserWarning: torch.range is deprecated and will be removed in a future release because its behavior is inconsistent with Python's range builtin. Instead, use torch.arange, which produces values in [start, end).\n",
      "  for epoch in range(1,n_epochs):\n"
     ]
    },
    {
     "name": "stdout",
     "output_type": "stream",
     "text": [
      "Epoch 1.0\n",
      " train loss: 91.88472033888483, train acc: 0.4883112212276215\n",
      " test loss: 77.62951754916246, test acc: 0.5589171974522293\n",
      "\n",
      "Epoch 2.0\n",
      " train loss: 71.96878852990582, train acc: 0.6022418478260869\n",
      " test loss: 68.00283266176844, test acc: 0.6241042993630573\n",
      "\n",
      "Epoch 3.0\n",
      " train loss: 64.86101714424466, train acc: 0.6451007033248082\n",
      " test loss: 65.45411677876855, test acc: 0.637937898089172\n",
      "\n",
      "Epoch 4.0\n",
      " train loss: 61.41997285511183, train acc: 0.6651214833759591\n",
      " test loss: 59.956954700931625, test acc: 0.6732683121019108\n",
      "\n",
      "Epoch 5.0\n",
      " train loss: 58.961403684542915, train acc: 0.6791879795396419\n",
      " test loss: 59.05677464357607, test acc: 0.6766520700636943\n",
      "\n"
     ]
    }
   ],
   "source": [
    "model = ResidualNet()\n",
    "optimizer = torch.optim.SGD(model.parameters(), lr=0.01, momentum=0.9)\n",
    "loss_fn = nn.CrossEntropyLoss()\n",
    "trainer = Trainer(model, optimizer, loss_fn)\n",
    "#trainer._train_epoch(train_loader)\n",
    "#trainer.test(test_loader)\n",
    "trainer.train(train_loader, test_loader, 5)"
   ]
  },
  {
   "cell_type": "code",
   "execution_count": 51,
   "id": "pApGNajj6Tkp",
   "metadata": {
    "colab": {
     "base_uri": "https://localhost:8080/",
     "height": 547
    },
    "executionInfo": {
     "elapsed": 736,
     "status": "ok",
     "timestamp": 1686826181536,
     "user": {
      "displayName": "Вадим Юшкин",
      "userId": "06312487074651780115"
     },
     "user_tz": -420
    },
    "id": "pApGNajj6Tkp",
    "outputId": "ce1f2ab6-b06f-455b-c854-d0c72bd8e326"
   },
   "outputs": [
    {
     "name": "stderr",
     "output_type": "stream",
     "text": [
      "C:\\Users\\sv_k7\\AppData\\Local\\Temp\\ipykernel_25040\\1408962514.py:4: UserWarning: torch.range is deprecated and will be removed in a future release because its behavior is inconsistent with Python's range builtin. Instead, use torch.arange, which produces values in [start, end).\n",
      "  axs[0].plot(range(1, len(trainer.train_loss_log) ), trainer.train_loss_log, label='train')\n",
      "C:\\Users\\sv_k7\\AppData\\Local\\Temp\\ipykernel_25040\\1408962514.py:5: UserWarning: torch.range is deprecated and will be removed in a future release because its behavior is inconsistent with Python's range builtin. Instead, use torch.arange, which produces values in [start, end).\n",
      "  axs[0].plot(range(1, len(trainer.test_loss_log) ), trainer.test_loss_log, label='test')\n",
      "C:\\Users\\sv_k7\\AppData\\Local\\Temp\\ipykernel_25040\\1408962514.py:8: UserWarning: torch.range is deprecated and will be removed in a future release because its behavior is inconsistent with Python's range builtin. Instead, use torch.arange, which produces values in [start, end).\n",
      "  axs[1].plot(range(1, len(trainer.train_acc_log) ), trainer.train_acc_log, label='train')\n",
      "C:\\Users\\sv_k7\\AppData\\Local\\Temp\\ipykernel_25040\\1408962514.py:9: UserWarning: torch.range is deprecated and will be removed in a future release because its behavior is inconsistent with Python's range builtin. Instead, use torch.arange, which produces values in [start, end).\n",
      "  axs[1].plot(range(1, len(trainer.test_acc_log) ), trainer.test_acc_log, label='test')\n"
     ]
    },
    {
     "data": {
      "image/png": "[encoded data removed]",
      "text/plain": [
       "<Figure size 1300x400 with 2 Axes>"
      ]
     },
     "metadata": {},
     "output_type": "display_data"
    }
   ],
   "source": [
    "plot_train_log(trainer)"
   ]
  },
  {
   "cell_type": "markdown",
   "id": "PBwR4QWTc8pm",
   "metadata": {
    "id": "PBwR4QWTc8pm"
   },
   "source": [
    "## Task 5\n"
   ]
  },
  {
   "cell_type": "markdown",
   "id": "80738a0e",
   "metadata": {
    "id": "80738a0e"
   },
   "source": [
    "Одной стандартной техникой, применяющейся в глубинном обучении, а особенно часто в компьютерном зрении, являются аугментации данных. \\\n",
    "Суть аугментаций состоит в том, что мы можем некоторым синтетическим образом видоизменять объекты обучающей выборки,  тем самым расширяя ее, а также делая итоговую модель более устойчивой к таким изменениям.\n",
    "Наиболее удобным способом работы с аугментациями в PyTorch является их задание в списке `transforms`, который затем передается в Dataloader.\\\n",
    "Изучи, какие [способы аугментаций](https://pytorch.org/vision/main/auto_examples/plot_transforms.html#sphx-glr-auto-examples-plot-transforms-py)\n",
    "изображений можно использовать PyTorch. Выберите несколько из них и визуализируйте как изменился датасет.\n",
    "![sample](../misc/images/images_sample.png)\n",
    "![sample](../misc/images/augment.png)\n",
    "\n",
    "Обучите сеть с аугментацией данных и с помощью функции [plot_train_log](./code-samples/cv_utils.py) визуализируй процесс обучения модели."
   ]
  },
  {
   "cell_type": "code",
   "execution_count": 52,
   "id": "e99cfacd",
   "metadata": {
    "executionInfo": {
     "elapsed": 435,
     "status": "ok",
     "timestamp": 1686837799187,
     "user": {
      "displayName": "Вадим Юшкин",
      "userId": "06312487074651780115"
     },
     "user_tz": -420
    },
    "id": "e99cfacd"
   },
   "outputs": [],
   "source": [
    "transform_v2 = transforms.Compose(\n",
    "        [\n",
    "            #transforms.CenterCrop(10),\n",
    "            #transforms.Resize(205),\n",
    "#             transforms.GaussianBlur(1),\n",
    "#             transforms.RandomGrayscale(p=0.05),\n",
    "            transforms.RandomRotation(degrees = 3),\n",
    "            transforms.RandomInvert(p=0.1),\n",
    "            transforms.ToTensor(),\n",
    "            transforms.Normalize((0.5, 0.5, 0.5), (0.5, 0.5, 0.5))\n",
    "        ]\n",
    ")#каждое изображение с какой-то долей вероятности (p) поворачивается, сжимается, обрезается, меняет цвета и яркость"
   ]
  },
  {
   "cell_type": "code",
   "execution_count": 53,
   "id": "6a20cf88",
   "metadata": {},
   "outputs": [
    {
     "name": "stderr",
     "output_type": "stream",
     "text": [
      "Clipping input data to the valid range for imshow with RGB data ([0..1] for floats or [0..255] for integers).\n"
     ]
    },
    {
     "name": "stdout",
     "output_type": "stream",
     "text": [
      "               cat            ship            ship            plane\n"
     ]
    },
    {
     "data": {
      "image/png": "[encoded data removed]",
      "text/plain": [
       "<Figure size 640x480 with 1 Axes>"
      ]
     },
     "metadata": {},
     "output_type": "display_data"
    }
   ],
   "source": [
    "dataiter = iter(test_loader)\n",
    "images, labels = next(dataiter)\n",
    "\n",
    "imshow(torchvision.utils.make_grid(images[0:4]),(labels[0:4]))"
   ]
  },
  {
   "cell_type": "code",
   "execution_count": 59,
   "id": "c3a75191",
   "metadata": {},
   "outputs": [
    {
     "name": "stderr",
     "output_type": "stream",
     "text": [
      "Clipping input data to the valid range for imshow with RGB data ([0..1] for floats or [0..255] for integers).\n"
     ]
    },
    {
     "name": "stdout",
     "output_type": "stream",
     "text": [
      "               cat            ship            ship            plane\n"
     ]
    },
    {
     "data": {
      "image/png": "[encoded data removed]",
      "text/plain": [
       "<Figure size 640x480 with 1 Axes>"
      ]
     },
     "metadata": {},
     "output_type": "display_data"
    }
   ],
   "source": [
    "transform = transforms.Compose([\n",
    "    transforms.RandomHorizontalFlip(p=1),\n",
    "])\n",
    "\n",
    "# Применение аугментаций к изображениям\n",
    "augmented_images = transform(images)\n",
    "\n",
    "# Вывод аугментированных изображений на экран\n",
    "imshow(torchvision.utils.make_grid(augmented_images[0:4]), labels[0:4])"
   ]
  },
  {
   "cell_type": "code",
   "execution_count": 62,
   "id": "02e613f4",
   "metadata": {},
   "outputs": [
    {
     "name": "stdout",
     "output_type": "stream",
     "text": [
      "Files already downloaded and verified\n",
      "Сеть загружена на cpu\n"
     ]
    },
    {
     "name": "stderr",
     "output_type": "stream",
     "text": [
      "C:\\Users\\sv_k7\\AppData\\Local\\Temp\\ipykernel_25040\\3639198586.py:42: UserWarning: torch.range is deprecated and will be removed in a future release because its behavior is inconsistent with Python's range builtin. Instead, use torch.arange, which produces values in [start, end).\n",
      "  for epoch in range(1,n_epochs):\n"
     ]
    },
    {
     "name": "stdout",
     "output_type": "stream",
     "text": [
      "Epoch 1.0\n",
      " train loss: 71.52525383737081, train acc: 0.6083359974424553\n",
      " test loss: 62.02080768232892, test acc: 0.6642117834394905\n",
      "\n",
      "Epoch 2.0\n",
      " train loss: 68.09365913996001, train acc: 0.6286165281329923\n",
      " test loss: 60.35236463121548, test acc: 0.6658041401273885\n",
      "\n",
      "Epoch 3.0\n",
      " train loss: 66.64846347238097, train acc: 0.6368286445012787\n",
      " test loss: 61.10823252854074, test acc: 0.6664012738853503\n",
      "\n",
      "Epoch 4.0\n",
      " train loss: 65.35784403320469, train acc: 0.6414641943734015\n",
      " test loss: 58.692702493849836, test acc: 0.6786425159235668\n",
      "\n",
      "Epoch 5.0\n",
      " train loss: 64.0988702249649, train acc: 0.651474584398977\n",
      " test loss: 57.37210729319578, test acc: 0.6817277070063694\n",
      "\n"
     ]
    },
    {
     "name": "stderr",
     "output_type": "stream",
     "text": [
      "C:\\Users\\sv_k7\\AppData\\Local\\Temp\\ipykernel_25040\\1408962514.py:4: UserWarning: torch.range is deprecated and will be removed in a future release because its behavior is inconsistent with Python's range builtin. Instead, use torch.arange, which produces values in [start, end).\n",
      "  axs[0].plot(range(1, len(trainer.train_loss_log) ), trainer.train_loss_log, label='train')\n",
      "C:\\Users\\sv_k7\\AppData\\Local\\Temp\\ipykernel_25040\\1408962514.py:5: UserWarning: torch.range is deprecated and will be removed in a future release because its behavior is inconsistent with Python's range builtin. Instead, use torch.arange, which produces values in [start, end).\n",
      "  axs[0].plot(range(1, len(trainer.test_loss_log) ), trainer.test_loss_log, label='test')\n",
      "C:\\Users\\sv_k7\\AppData\\Local\\Temp\\ipykernel_25040\\1408962514.py:8: UserWarning: torch.range is deprecated and will be removed in a future release because its behavior is inconsistent with Python's range builtin. Instead, use torch.arange, which produces values in [start, end).\n",
      "  axs[1].plot(range(1, len(trainer.train_acc_log) ), trainer.train_acc_log, label='train')\n",
      "C:\\Users\\sv_k7\\AppData\\Local\\Temp\\ipykernel_25040\\1408962514.py:9: UserWarning: torch.range is deprecated and will be removed in a future release because its behavior is inconsistent with Python's range builtin. Instead, use torch.arange, which produces values in [start, end).\n",
      "  axs[1].plot(range(1, len(trainer.test_acc_log) ), trainer.test_acc_log, label='test')\n"
     ]
    },
    {
     "data": {
      "image/png": "[encoded data removed]",
      "text/plain": [
       "<Figure size 1300x400 with 2 Axes>"
      ]
     },
     "metadata": {},
     "output_type": "display_data"
    }
   ],
   "source": [
    "import random\n",
    "\n",
    "def load_dataloaders(transform=BASE_TRANSFORM, batch_size=BATCH_SIZE, augment_data=False):\n",
    "    if augment_data:\n",
    "        train_transform = transforms.Compose([\n",
    "            transforms.RandomCrop(32, padding=4),\n",
    "            transforms.RandomHorizontalFlip(),\n",
    "            transform\n",
    "        ])\n",
    "    else:\n",
    "        train_transform = transform\n",
    "\n",
    "    train_set = torchvision.datasets.CIFAR10(root='./data', train=True, download=True, transform=train_transform)\n",
    "    train_loader = torch.utils.data.DataLoader(train_set, batch_size=batch_size, shuffle=True, num_workers=2)\n",
    "\n",
    "    test_set = torchvision.datasets.CIFAR10(root='./data', train=False, transform=transform)\n",
    "    test_loader = torch.utils.data.DataLoader(test_set, batch_size=batch_size, shuffle=True, num_workers=2)\n",
    "\n",
    "    return train_loader, test_loader\n",
    "\n",
    "# Создайте загрузчики данных с аугментацией\n",
    "train_loader_augmented, test_loader_augmented = load_dataloaders(transform=BASE_TRANSFORM, batch_size=BATCH_SIZE, augment_data=True)\n",
    "\n",
    "# Создайте новый объект Trainer с моделью и загрузчиками данных с аугментацией\n",
    "trainer_augmented = Trainer(model, optimizer, loss_fn)\n",
    "trainer_augmented.train(train_loader_augmented, test_loader_augmented, 5)\n",
    "\n",
    "# Визуализируйте процесс обучения с аугментацией данных\n",
    "plot_train_log(trainer_augmented)\n"
   ]
  }
 ],
 "metadata": {
  "colab": {
   "provenance": []
  },
  "kernelspec": {
   "display_name": "Python 3 (ipykernel)",
   "language": "python",
   "name": "python3"
  },
  "language_info": {
   "codemirror_mode": {
    "name": "ipython",
    "version": 3
   },
   "file_extension": ".py",
   "mimetype": "text/x-python",
   "name": "python",
   "nbconvert_exporter": "python",
   "pygments_lexer": "ipython3",
   "version": "3.10.11"
  }
 },
 "nbformat": 4,
 "nbformat_minor": 5
}
